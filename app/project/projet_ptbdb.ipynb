{
 "cells": [
  {
   "cell_type": "code",
   "execution_count": 4,
   "id": "99d55415",
   "metadata": {},
   "outputs": [],
   "source": [
    "import pandas as pd\n",
    "import numpy as np\n",
    "import matplotlib.pyplot as plt\n",
    "import seaborn as sns\n",
    "import numpy as np\n",
    "from sklearn.metrics import classification_report, confusion_matrix\n",
    "#from tensorflow.keras.utils import to_categorical"
   ]
  },
  {
   "cell_type": "code",
   "execution_count": 5,
   "id": "82807f79",
   "metadata": {},
   "outputs": [],
   "source": [
    "from joblib import dump, load\n",
    "import joblib"
   ]
  },
  {
   "cell_type": "code",
   "execution_count": 6,
   "id": "f3a7c0cb",
   "metadata": {},
   "outputs": [],
   "source": [
    "# Charger les données\n",
    "df_abnormal = pd.read_csv('ptbdb_abnormal.csv', header=None)\n",
    "df_normal = pd.read_csv('ptbdb_normal.csv', header=None)"
   ]
  },
  {
   "cell_type": "code",
   "execution_count": 7,
   "id": "8671930e",
   "metadata": {},
   "outputs": [
    {
     "name": "stdout",
     "output_type": "stream",
     "text": [
      "\n",
      "Informations utiles sur la base de données df_abnormal :\n",
      "<class 'pandas.core.frame.DataFrame'>\n",
      "RangeIndex: 10506 entries, 0 to 10505\n",
      "Columns: 188 entries, 0 to 187\n",
      "dtypes: float64(188)\n",
      "memory usage: 15.1 MB\n",
      "None\n",
      "\n",
      "Aperçu des premières lignes :\n"
     ]
    },
    {
     "data": {
      "text/html": [
       "<div>\n",
       "<style scoped>\n",
       "    .dataframe tbody tr th:only-of-type {\n",
       "        vertical-align: middle;\n",
       "    }\n",
       "\n",
       "    .dataframe tbody tr th {\n",
       "        vertical-align: top;\n",
       "    }\n",
       "\n",
       "    .dataframe thead th {\n",
       "        text-align: right;\n",
       "    }\n",
       "</style>\n",
       "<table border=\"1\" class=\"dataframe\">\n",
       "  <thead>\n",
       "    <tr style=\"text-align: right;\">\n",
       "      <th></th>\n",
       "      <th>0</th>\n",
       "      <th>1</th>\n",
       "      <th>2</th>\n",
       "      <th>3</th>\n",
       "      <th>4</th>\n",
       "      <th>5</th>\n",
       "      <th>6</th>\n",
       "      <th>7</th>\n",
       "      <th>8</th>\n",
       "      <th>9</th>\n",
       "      <th>...</th>\n",
       "      <th>178</th>\n",
       "      <th>179</th>\n",
       "      <th>180</th>\n",
       "      <th>181</th>\n",
       "      <th>182</th>\n",
       "      <th>183</th>\n",
       "      <th>184</th>\n",
       "      <th>185</th>\n",
       "      <th>186</th>\n",
       "      <th>187</th>\n",
       "    </tr>\n",
       "  </thead>\n",
       "  <tbody>\n",
       "    <tr>\n",
       "      <th>0</th>\n",
       "      <td>0.932233</td>\n",
       "      <td>0.869679</td>\n",
       "      <td>0.886186</td>\n",
       "      <td>0.929626</td>\n",
       "      <td>0.908775</td>\n",
       "      <td>0.933970</td>\n",
       "      <td>0.801043</td>\n",
       "      <td>0.749783</td>\n",
       "      <td>0.687229</td>\n",
       "      <td>0.635100</td>\n",
       "      <td>...</td>\n",
       "      <td>0.0</td>\n",
       "      <td>0.0</td>\n",
       "      <td>0.0</td>\n",
       "      <td>0.0</td>\n",
       "      <td>0.0</td>\n",
       "      <td>0.0</td>\n",
       "      <td>0.0</td>\n",
       "      <td>0.0</td>\n",
       "      <td>0.0</td>\n",
       "      <td>1.0</td>\n",
       "    </tr>\n",
       "    <tr>\n",
       "      <th>1</th>\n",
       "      <td>1.000000</td>\n",
       "      <td>0.606941</td>\n",
       "      <td>0.384181</td>\n",
       "      <td>0.254237</td>\n",
       "      <td>0.223567</td>\n",
       "      <td>0.276836</td>\n",
       "      <td>0.253430</td>\n",
       "      <td>0.184826</td>\n",
       "      <td>0.153349</td>\n",
       "      <td>0.121872</td>\n",
       "      <td>...</td>\n",
       "      <td>0.0</td>\n",
       "      <td>0.0</td>\n",
       "      <td>0.0</td>\n",
       "      <td>0.0</td>\n",
       "      <td>0.0</td>\n",
       "      <td>0.0</td>\n",
       "      <td>0.0</td>\n",
       "      <td>0.0</td>\n",
       "      <td>0.0</td>\n",
       "      <td>1.0</td>\n",
       "    </tr>\n",
       "    <tr>\n",
       "      <th>2</th>\n",
       "      <td>1.000000</td>\n",
       "      <td>0.951613</td>\n",
       "      <td>0.923963</td>\n",
       "      <td>0.853303</td>\n",
       "      <td>0.791859</td>\n",
       "      <td>0.734255</td>\n",
       "      <td>0.672043</td>\n",
       "      <td>0.685100</td>\n",
       "      <td>0.670507</td>\n",
       "      <td>0.667435</td>\n",
       "      <td>...</td>\n",
       "      <td>0.0</td>\n",
       "      <td>0.0</td>\n",
       "      <td>0.0</td>\n",
       "      <td>0.0</td>\n",
       "      <td>0.0</td>\n",
       "      <td>0.0</td>\n",
       "      <td>0.0</td>\n",
       "      <td>0.0</td>\n",
       "      <td>0.0</td>\n",
       "      <td>1.0</td>\n",
       "    </tr>\n",
       "    <tr>\n",
       "      <th>3</th>\n",
       "      <td>0.977819</td>\n",
       "      <td>0.899261</td>\n",
       "      <td>0.230129</td>\n",
       "      <td>0.032348</td>\n",
       "      <td>0.142329</td>\n",
       "      <td>0.223660</td>\n",
       "      <td>0.328096</td>\n",
       "      <td>0.367837</td>\n",
       "      <td>0.381701</td>\n",
       "      <td>0.389094</td>\n",
       "      <td>...</td>\n",
       "      <td>0.0</td>\n",
       "      <td>0.0</td>\n",
       "      <td>0.0</td>\n",
       "      <td>0.0</td>\n",
       "      <td>0.0</td>\n",
       "      <td>0.0</td>\n",
       "      <td>0.0</td>\n",
       "      <td>0.0</td>\n",
       "      <td>0.0</td>\n",
       "      <td>1.0</td>\n",
       "    </tr>\n",
       "    <tr>\n",
       "      <th>4</th>\n",
       "      <td>0.935618</td>\n",
       "      <td>0.801661</td>\n",
       "      <td>0.805815</td>\n",
       "      <td>1.000000</td>\n",
       "      <td>0.722741</td>\n",
       "      <td>0.480789</td>\n",
       "      <td>0.454829</td>\n",
       "      <td>0.319834</td>\n",
       "      <td>0.266874</td>\n",
       "      <td>0.308411</td>\n",
       "      <td>...</td>\n",
       "      <td>0.0</td>\n",
       "      <td>0.0</td>\n",
       "      <td>0.0</td>\n",
       "      <td>0.0</td>\n",
       "      <td>0.0</td>\n",
       "      <td>0.0</td>\n",
       "      <td>0.0</td>\n",
       "      <td>0.0</td>\n",
       "      <td>0.0</td>\n",
       "      <td>1.0</td>\n",
       "    </tr>\n",
       "  </tbody>\n",
       "</table>\n",
       "<p>5 rows × 188 columns</p>\n",
       "</div>"
      ],
      "text/plain": [
       "        0         1         2         3         4         5         6    \\\n",
       "0  0.932233  0.869679  0.886186  0.929626  0.908775  0.933970  0.801043   \n",
       "1  1.000000  0.606941  0.384181  0.254237  0.223567  0.276836  0.253430   \n",
       "2  1.000000  0.951613  0.923963  0.853303  0.791859  0.734255  0.672043   \n",
       "3  0.977819  0.899261  0.230129  0.032348  0.142329  0.223660  0.328096   \n",
       "4  0.935618  0.801661  0.805815  1.000000  0.722741  0.480789  0.454829   \n",
       "\n",
       "        7         8         9    ...  178  179  180  181  182  183  184  185  \\\n",
       "0  0.749783  0.687229  0.635100  ...  0.0  0.0  0.0  0.0  0.0  0.0  0.0  0.0   \n",
       "1  0.184826  0.153349  0.121872  ...  0.0  0.0  0.0  0.0  0.0  0.0  0.0  0.0   \n",
       "2  0.685100  0.670507  0.667435  ...  0.0  0.0  0.0  0.0  0.0  0.0  0.0  0.0   \n",
       "3  0.367837  0.381701  0.389094  ...  0.0  0.0  0.0  0.0  0.0  0.0  0.0  0.0   \n",
       "4  0.319834  0.266874  0.308411  ...  0.0  0.0  0.0  0.0  0.0  0.0  0.0  0.0   \n",
       "\n",
       "   186  187  \n",
       "0  0.0  1.0  \n",
       "1  0.0  1.0  \n",
       "2  0.0  1.0  \n",
       "3  0.0  1.0  \n",
       "4  0.0  1.0  \n",
       "\n",
       "[5 rows x 188 columns]"
      ]
     },
     "execution_count": 7,
     "metadata": {},
     "output_type": "execute_result"
    }
   ],
   "source": [
    "print(\"\\nInformations utiles sur la base de données df_abnormal :\")\n",
    "print(df_abnormal.info())\n",
    "print(\"\\nAperçu des premières lignes :\")\n",
    "df_abnormal.head()"
   ]
  },
  {
   "cell_type": "code",
   "execution_count": 8,
   "id": "06b1bb65",
   "metadata": {},
   "outputs": [
    {
     "data": {
      "text/plain": [
       "187\n",
       "1.0    10506\n",
       "Name: count, dtype: int64"
      ]
     },
     "execution_count": 8,
     "metadata": {},
     "output_type": "execute_result"
    }
   ],
   "source": [
    "# Compter les occurrences des classes dans la nouvelle base df_abnormal\n",
    "df_abnormal[187].value_counts()"
   ]
  },
  {
   "cell_type": "code",
   "execution_count": 9,
   "id": "99ed32c6",
   "metadata": {},
   "outputs": [
    {
     "name": "stdout",
     "output_type": "stream",
     "text": [
      "\n",
      "Informations utiles sur la base de données df_normal :\n",
      "<class 'pandas.core.frame.DataFrame'>\n",
      "RangeIndex: 4046 entries, 0 to 4045\n",
      "Columns: 188 entries, 0 to 187\n",
      "dtypes: float64(188)\n",
      "memory usage: 5.8 MB\n",
      "None\n",
      "\n",
      "Aperçu des premières lignes :\n"
     ]
    },
    {
     "data": {
      "text/html": [
       "<div>\n",
       "<style scoped>\n",
       "    .dataframe tbody tr th:only-of-type {\n",
       "        vertical-align: middle;\n",
       "    }\n",
       "\n",
       "    .dataframe tbody tr th {\n",
       "        vertical-align: top;\n",
       "    }\n",
       "\n",
       "    .dataframe thead th {\n",
       "        text-align: right;\n",
       "    }\n",
       "</style>\n",
       "<table border=\"1\" class=\"dataframe\">\n",
       "  <thead>\n",
       "    <tr style=\"text-align: right;\">\n",
       "      <th></th>\n",
       "      <th>0</th>\n",
       "      <th>1</th>\n",
       "      <th>2</th>\n",
       "      <th>3</th>\n",
       "      <th>4</th>\n",
       "      <th>5</th>\n",
       "      <th>6</th>\n",
       "      <th>7</th>\n",
       "      <th>8</th>\n",
       "      <th>9</th>\n",
       "      <th>...</th>\n",
       "      <th>178</th>\n",
       "      <th>179</th>\n",
       "      <th>180</th>\n",
       "      <th>181</th>\n",
       "      <th>182</th>\n",
       "      <th>183</th>\n",
       "      <th>184</th>\n",
       "      <th>185</th>\n",
       "      <th>186</th>\n",
       "      <th>187</th>\n",
       "    </tr>\n",
       "  </thead>\n",
       "  <tbody>\n",
       "    <tr>\n",
       "      <th>0</th>\n",
       "      <td>1.000000</td>\n",
       "      <td>0.900324</td>\n",
       "      <td>0.358590</td>\n",
       "      <td>0.051459</td>\n",
       "      <td>0.046596</td>\n",
       "      <td>0.126823</td>\n",
       "      <td>0.133306</td>\n",
       "      <td>0.119125</td>\n",
       "      <td>0.110616</td>\n",
       "      <td>0.113047</td>\n",
       "      <td>...</td>\n",
       "      <td>0.0</td>\n",
       "      <td>0.0</td>\n",
       "      <td>0.0</td>\n",
       "      <td>0.0</td>\n",
       "      <td>0.0</td>\n",
       "      <td>0.0</td>\n",
       "      <td>0.0</td>\n",
       "      <td>0.0</td>\n",
       "      <td>0.0</td>\n",
       "      <td>0.0</td>\n",
       "    </tr>\n",
       "    <tr>\n",
       "      <th>1</th>\n",
       "      <td>1.000000</td>\n",
       "      <td>0.794681</td>\n",
       "      <td>0.375387</td>\n",
       "      <td>0.116883</td>\n",
       "      <td>0.000000</td>\n",
       "      <td>0.171923</td>\n",
       "      <td>0.283859</td>\n",
       "      <td>0.293754</td>\n",
       "      <td>0.325912</td>\n",
       "      <td>0.345083</td>\n",
       "      <td>...</td>\n",
       "      <td>0.0</td>\n",
       "      <td>0.0</td>\n",
       "      <td>0.0</td>\n",
       "      <td>0.0</td>\n",
       "      <td>0.0</td>\n",
       "      <td>0.0</td>\n",
       "      <td>0.0</td>\n",
       "      <td>0.0</td>\n",
       "      <td>0.0</td>\n",
       "      <td>0.0</td>\n",
       "    </tr>\n",
       "    <tr>\n",
       "      <th>2</th>\n",
       "      <td>0.909029</td>\n",
       "      <td>0.791482</td>\n",
       "      <td>0.423169</td>\n",
       "      <td>0.186712</td>\n",
       "      <td>0.000000</td>\n",
       "      <td>0.007836</td>\n",
       "      <td>0.063032</td>\n",
       "      <td>0.077002</td>\n",
       "      <td>0.074957</td>\n",
       "      <td>0.077342</td>\n",
       "      <td>...</td>\n",
       "      <td>0.0</td>\n",
       "      <td>0.0</td>\n",
       "      <td>0.0</td>\n",
       "      <td>0.0</td>\n",
       "      <td>0.0</td>\n",
       "      <td>0.0</td>\n",
       "      <td>0.0</td>\n",
       "      <td>0.0</td>\n",
       "      <td>0.0</td>\n",
       "      <td>0.0</td>\n",
       "    </tr>\n",
       "    <tr>\n",
       "      <th>3</th>\n",
       "      <td>1.000000</td>\n",
       "      <td>0.478893</td>\n",
       "      <td>0.056760</td>\n",
       "      <td>0.064176</td>\n",
       "      <td>0.081289</td>\n",
       "      <td>0.072732</td>\n",
       "      <td>0.055619</td>\n",
       "      <td>0.048774</td>\n",
       "      <td>0.054478</td>\n",
       "      <td>0.041643</td>\n",
       "      <td>...</td>\n",
       "      <td>0.0</td>\n",
       "      <td>0.0</td>\n",
       "      <td>0.0</td>\n",
       "      <td>0.0</td>\n",
       "      <td>0.0</td>\n",
       "      <td>0.0</td>\n",
       "      <td>0.0</td>\n",
       "      <td>0.0</td>\n",
       "      <td>0.0</td>\n",
       "      <td>0.0</td>\n",
       "    </tr>\n",
       "    <tr>\n",
       "      <th>4</th>\n",
       "      <td>1.000000</td>\n",
       "      <td>0.867238</td>\n",
       "      <td>0.201360</td>\n",
       "      <td>0.099349</td>\n",
       "      <td>0.141336</td>\n",
       "      <td>0.120934</td>\n",
       "      <td>0.108516</td>\n",
       "      <td>0.096393</td>\n",
       "      <td>0.093436</td>\n",
       "      <td>0.100828</td>\n",
       "      <td>...</td>\n",
       "      <td>0.0</td>\n",
       "      <td>0.0</td>\n",
       "      <td>0.0</td>\n",
       "      <td>0.0</td>\n",
       "      <td>0.0</td>\n",
       "      <td>0.0</td>\n",
       "      <td>0.0</td>\n",
       "      <td>0.0</td>\n",
       "      <td>0.0</td>\n",
       "      <td>0.0</td>\n",
       "    </tr>\n",
       "  </tbody>\n",
       "</table>\n",
       "<p>5 rows × 188 columns</p>\n",
       "</div>"
      ],
      "text/plain": [
       "        0         1         2         3         4         5         6    \\\n",
       "0  1.000000  0.900324  0.358590  0.051459  0.046596  0.126823  0.133306   \n",
       "1  1.000000  0.794681  0.375387  0.116883  0.000000  0.171923  0.283859   \n",
       "2  0.909029  0.791482  0.423169  0.186712  0.000000  0.007836  0.063032   \n",
       "3  1.000000  0.478893  0.056760  0.064176  0.081289  0.072732  0.055619   \n",
       "4  1.000000  0.867238  0.201360  0.099349  0.141336  0.120934  0.108516   \n",
       "\n",
       "        7         8         9    ...  178  179  180  181  182  183  184  185  \\\n",
       "0  0.119125  0.110616  0.113047  ...  0.0  0.0  0.0  0.0  0.0  0.0  0.0  0.0   \n",
       "1  0.293754  0.325912  0.345083  ...  0.0  0.0  0.0  0.0  0.0  0.0  0.0  0.0   \n",
       "2  0.077002  0.074957  0.077342  ...  0.0  0.0  0.0  0.0  0.0  0.0  0.0  0.0   \n",
       "3  0.048774  0.054478  0.041643  ...  0.0  0.0  0.0  0.0  0.0  0.0  0.0  0.0   \n",
       "4  0.096393  0.093436  0.100828  ...  0.0  0.0  0.0  0.0  0.0  0.0  0.0  0.0   \n",
       "\n",
       "   186  187  \n",
       "0  0.0  0.0  \n",
       "1  0.0  0.0  \n",
       "2  0.0  0.0  \n",
       "3  0.0  0.0  \n",
       "4  0.0  0.0  \n",
       "\n",
       "[5 rows x 188 columns]"
      ]
     },
     "execution_count": 9,
     "metadata": {},
     "output_type": "execute_result"
    }
   ],
   "source": [
    "print(\"\\nInformations utiles sur la base de données df_normal :\")\n",
    "print(df_normal.info())\n",
    "print(\"\\nAperçu des premières lignes :\")\n",
    "df_normal.head()"
   ]
  },
  {
   "cell_type": "code",
   "execution_count": 10,
   "id": "3a8b0ebf",
   "metadata": {},
   "outputs": [
    {
     "data": {
      "text/plain": [
       "187\n",
       "0.0    4046\n",
       "Name: count, dtype: int64"
      ]
     },
     "execution_count": 10,
     "metadata": {},
     "output_type": "execute_result"
    }
   ],
   "source": [
    "# Compter les occurrences des classes dans la nouvelle base df_normal\n",
    "df_normal[187].value_counts()"
   ]
  },
  {
   "cell_type": "code",
   "execution_count": 11,
   "id": "287ed800",
   "metadata": {},
   "outputs": [
    {
     "data": {
      "text/plain": [
       "\"\\nle mélange des données est nécessaire pour s'assurer que le modèle ne peut pas apprendre \\nà distinguer entre les données normales et anormales en fonction de leur ordre dans le fichier CSV.\\n\""
      ]
     },
     "execution_count": 11,
     "metadata": {},
     "output_type": "execute_result"
    }
   ],
   "source": [
    "# Concaténer les deux dataframes\n",
    "df = pd.concat([df_normal, df_abnormal])\n",
    "\n",
    "#La méthode sample() de Pandas renvoie un échantillon aléatoire du dataframe. \n",
    "#La méthode reset_index() de Pandas réinitialise l'index du dataframe.\n",
    "df = df.sample(frac=1).reset_index(drop=True)\n",
    "\n",
    "'''\n",
    "le mélange des données est nécessaire pour s'assurer que le modèle ne peut pas apprendre \n",
    "à distinguer entre les données normales et anormales en fonction de leur ordre dans le fichier CSV.\n",
    "'''\n"
   ]
  },
  {
   "cell_type": "code",
   "execution_count": 12,
   "id": "37d468f7",
   "metadata": {},
   "outputs": [
    {
     "name": "stdout",
     "output_type": "stream",
     "text": [
      "\n",
      "Informations utiles sur la base de données df :\n",
      "<class 'pandas.core.frame.DataFrame'>\n",
      "RangeIndex: 14552 entries, 0 to 14551\n",
      "Columns: 188 entries, 0 to 187\n",
      "dtypes: float64(188)\n",
      "memory usage: 20.9 MB\n",
      "None\n",
      "\n",
      "Aperçu des premières lignes :\n"
     ]
    },
    {
     "data": {
      "text/html": [
       "<div>\n",
       "<style scoped>\n",
       "    .dataframe tbody tr th:only-of-type {\n",
       "        vertical-align: middle;\n",
       "    }\n",
       "\n",
       "    .dataframe tbody tr th {\n",
       "        vertical-align: top;\n",
       "    }\n",
       "\n",
       "    .dataframe thead th {\n",
       "        text-align: right;\n",
       "    }\n",
       "</style>\n",
       "<table border=\"1\" class=\"dataframe\">\n",
       "  <thead>\n",
       "    <tr style=\"text-align: right;\">\n",
       "      <th></th>\n",
       "      <th>0</th>\n",
       "      <th>1</th>\n",
       "      <th>2</th>\n",
       "      <th>3</th>\n",
       "      <th>4</th>\n",
       "      <th>5</th>\n",
       "      <th>6</th>\n",
       "      <th>7</th>\n",
       "      <th>8</th>\n",
       "      <th>9</th>\n",
       "      <th>...</th>\n",
       "      <th>178</th>\n",
       "      <th>179</th>\n",
       "      <th>180</th>\n",
       "      <th>181</th>\n",
       "      <th>182</th>\n",
       "      <th>183</th>\n",
       "      <th>184</th>\n",
       "      <th>185</th>\n",
       "      <th>186</th>\n",
       "      <th>187</th>\n",
       "    </tr>\n",
       "  </thead>\n",
       "  <tbody>\n",
       "    <tr>\n",
       "      <th>0</th>\n",
       "      <td>1.000000</td>\n",
       "      <td>0.400371</td>\n",
       "      <td>0.010195</td>\n",
       "      <td>0.000000</td>\n",
       "      <td>0.078777</td>\n",
       "      <td>0.057461</td>\n",
       "      <td>0.120482</td>\n",
       "      <td>0.111677</td>\n",
       "      <td>0.070899</td>\n",
       "      <td>0.098703</td>\n",
       "      <td>...</td>\n",
       "      <td>0.0</td>\n",
       "      <td>0.0</td>\n",
       "      <td>0.0</td>\n",
       "      <td>0.0</td>\n",
       "      <td>0.0</td>\n",
       "      <td>0.0</td>\n",
       "      <td>0.0</td>\n",
       "      <td>0.0</td>\n",
       "      <td>0.0</td>\n",
       "      <td>1.0</td>\n",
       "    </tr>\n",
       "    <tr>\n",
       "      <th>1</th>\n",
       "      <td>1.000000</td>\n",
       "      <td>0.600934</td>\n",
       "      <td>0.510638</td>\n",
       "      <td>0.090296</td>\n",
       "      <td>0.106383</td>\n",
       "      <td>0.119357</td>\n",
       "      <td>0.158796</td>\n",
       "      <td>0.272444</td>\n",
       "      <td>0.314997</td>\n",
       "      <td>0.321225</td>\n",
       "      <td>...</td>\n",
       "      <td>0.0</td>\n",
       "      <td>0.0</td>\n",
       "      <td>0.0</td>\n",
       "      <td>0.0</td>\n",
       "      <td>0.0</td>\n",
       "      <td>0.0</td>\n",
       "      <td>0.0</td>\n",
       "      <td>0.0</td>\n",
       "      <td>0.0</td>\n",
       "      <td>1.0</td>\n",
       "    </tr>\n",
       "    <tr>\n",
       "      <th>2</th>\n",
       "      <td>0.902222</td>\n",
       "      <td>0.560741</td>\n",
       "      <td>0.275556</td>\n",
       "      <td>0.271111</td>\n",
       "      <td>0.266667</td>\n",
       "      <td>0.299259</td>\n",
       "      <td>0.294074</td>\n",
       "      <td>0.267407</td>\n",
       "      <td>0.274074</td>\n",
       "      <td>0.231111</td>\n",
       "      <td>...</td>\n",
       "      <td>0.0</td>\n",
       "      <td>0.0</td>\n",
       "      <td>0.0</td>\n",
       "      <td>0.0</td>\n",
       "      <td>0.0</td>\n",
       "      <td>0.0</td>\n",
       "      <td>0.0</td>\n",
       "      <td>0.0</td>\n",
       "      <td>0.0</td>\n",
       "      <td>1.0</td>\n",
       "    </tr>\n",
       "    <tr>\n",
       "      <th>3</th>\n",
       "      <td>1.000000</td>\n",
       "      <td>0.653672</td>\n",
       "      <td>0.541243</td>\n",
       "      <td>0.267797</td>\n",
       "      <td>0.120904</td>\n",
       "      <td>0.077966</td>\n",
       "      <td>0.035028</td>\n",
       "      <td>0.010169</td>\n",
       "      <td>0.023164</td>\n",
       "      <td>0.002260</td>\n",
       "      <td>...</td>\n",
       "      <td>0.0</td>\n",
       "      <td>0.0</td>\n",
       "      <td>0.0</td>\n",
       "      <td>0.0</td>\n",
       "      <td>0.0</td>\n",
       "      <td>0.0</td>\n",
       "      <td>0.0</td>\n",
       "      <td>0.0</td>\n",
       "      <td>0.0</td>\n",
       "      <td>1.0</td>\n",
       "    </tr>\n",
       "    <tr>\n",
       "      <th>4</th>\n",
       "      <td>1.000000</td>\n",
       "      <td>0.785623</td>\n",
       "      <td>0.662388</td>\n",
       "      <td>0.464698</td>\n",
       "      <td>0.381258</td>\n",
       "      <td>0.358151</td>\n",
       "      <td>0.184852</td>\n",
       "      <td>0.087291</td>\n",
       "      <td>0.034660</td>\n",
       "      <td>0.097561</td>\n",
       "      <td>...</td>\n",
       "      <td>0.0</td>\n",
       "      <td>0.0</td>\n",
       "      <td>0.0</td>\n",
       "      <td>0.0</td>\n",
       "      <td>0.0</td>\n",
       "      <td>0.0</td>\n",
       "      <td>0.0</td>\n",
       "      <td>0.0</td>\n",
       "      <td>0.0</td>\n",
       "      <td>1.0</td>\n",
       "    </tr>\n",
       "  </tbody>\n",
       "</table>\n",
       "<p>5 rows × 188 columns</p>\n",
       "</div>"
      ],
      "text/plain": [
       "        0         1         2         3         4         5         6    \\\n",
       "0  1.000000  0.400371  0.010195  0.000000  0.078777  0.057461  0.120482   \n",
       "1  1.000000  0.600934  0.510638  0.090296  0.106383  0.119357  0.158796   \n",
       "2  0.902222  0.560741  0.275556  0.271111  0.266667  0.299259  0.294074   \n",
       "3  1.000000  0.653672  0.541243  0.267797  0.120904  0.077966  0.035028   \n",
       "4  1.000000  0.785623  0.662388  0.464698  0.381258  0.358151  0.184852   \n",
       "\n",
       "        7         8         9    ...  178  179  180  181  182  183  184  185  \\\n",
       "0  0.111677  0.070899  0.098703  ...  0.0  0.0  0.0  0.0  0.0  0.0  0.0  0.0   \n",
       "1  0.272444  0.314997  0.321225  ...  0.0  0.0  0.0  0.0  0.0  0.0  0.0  0.0   \n",
       "2  0.267407  0.274074  0.231111  ...  0.0  0.0  0.0  0.0  0.0  0.0  0.0  0.0   \n",
       "3  0.010169  0.023164  0.002260  ...  0.0  0.0  0.0  0.0  0.0  0.0  0.0  0.0   \n",
       "4  0.087291  0.034660  0.097561  ...  0.0  0.0  0.0  0.0  0.0  0.0  0.0  0.0   \n",
       "\n",
       "   186  187  \n",
       "0  0.0  1.0  \n",
       "1  0.0  1.0  \n",
       "2  0.0  1.0  \n",
       "3  0.0  1.0  \n",
       "4  0.0  1.0  \n",
       "\n",
       "[5 rows x 188 columns]"
      ]
     },
     "execution_count": 12,
     "metadata": {},
     "output_type": "execute_result"
    }
   ],
   "source": [
    "print(\"\\nInformations utiles sur la base de données df :\")\n",
    "print(df.info())\n",
    "print(\"\\nAperçu des premières lignes :\")\n",
    "df.head()"
   ]
  },
  {
   "cell_type": "code",
   "execution_count": 13,
   "id": "12761e9f",
   "metadata": {},
   "outputs": [
    {
     "data": {
      "text/plain": [
       "187\n",
       "1.0    10506\n",
       "0.0     4046\n",
       "Name: count, dtype: int64"
      ]
     },
     "execution_count": 13,
     "metadata": {},
     "output_type": "execute_result"
    }
   ],
   "source": [
    "# Compter les occurrences des classes dans la nouvelle base df\n",
    "df[187].value_counts()"
   ]
  },
  {
   "cell_type": "code",
   "execution_count": null,
   "id": "b17053ce",
   "metadata": {},
   "outputs": [],
   "source": []
  },
  {
   "cell_type": "code",
   "execution_count": 14,
   "id": "bed667c6",
   "metadata": {},
   "outputs": [],
   "source": [
    "def plot_class_distribution(df, title):\n",
    "    plt.figure(figsize=(8, 4))\n",
    "    sns.countplot(x=df.iloc[:, -1])\n",
    "    plt.title(title)\n",
    "    plt.xlabel('Classes')\n",
    "    plt.ylabel('Nombre de battements')\n",
    "    plt.show()"
   ]
  },
  {
   "cell_type": "code",
   "execution_count": 15,
   "id": "09483408",
   "metadata": {},
   "outputs": [
    {
     "data": {
      "image/png": "[encoded data removed]",
      "text/plain": [
       "<Figure size 800x400 with 1 Axes>"
      ]
     },
     "metadata": {},
     "output_type": "display_data"
    }
   ],
   "source": [
    "# Répartition des classes/labels pour chaque ensemble de données\n",
    "plot_class_distribution(df, \"Répartition des classes\")"
   ]
  },
  {
   "cell_type": "code",
   "execution_count": 16,
   "id": "f6367315",
   "metadata": {},
   "outputs": [],
   "source": [
    "def display_descriptive_statistics(df, name):\n",
    "    print(f\"Statistiques descriptives pour {name}:\")\n",
    "    print(df.describe())\n",
    "    print(\"\\n\")"
   ]
  },
  {
   "cell_type": "code",
   "execution_count": 17,
   "id": "a2d746b3",
   "metadata": {},
   "outputs": [
    {
     "name": "stdout",
     "output_type": "stream",
     "text": [
      "Statistiques descriptives pour notre base:\n",
      "                0             1             2             3             4    \\\n",
      "count  14552.000000  14552.000000  14552.000000  14552.000000  14552.000000   \n",
      "mean       0.976637      0.721663      0.403099      0.242893      0.207218   \n",
      "std        0.034532      0.195690      0.249794      0.249519      0.218097   \n",
      "min        0.624227      0.000000      0.000000      0.000000      0.000000   \n",
      "25%        0.959377      0.584589      0.212300      0.052269      0.061875   \n",
      "50%        1.000000      0.740148      0.371911      0.168148      0.136082   \n",
      "75%        1.000000      0.881483      0.557785      0.336232      0.264104   \n",
      "max        1.000000      1.000000      1.000000      1.000000      1.000000   \n",
      "\n",
      "                5             6             7             8             9    \\\n",
      "count  14552.000000  14552.000000  14552.000000  14552.000000  14552.000000   \n",
      "mean       0.216453      0.221752      0.224486      0.227349      0.229704   \n",
      "std        0.192412      0.180740      0.176943      0.176674      0.176579   \n",
      "min        0.000000      0.000000      0.000000      0.000000      0.000000   \n",
      "25%        0.090487      0.096503      0.097095      0.097231      0.097144   \n",
      "50%        0.159451      0.167479      0.171541      0.177380      0.180337   \n",
      "75%        0.264633      0.286484      0.302255      0.311664      0.325292   \n",
      "max        1.000000      1.000000      0.985523      0.993213      0.997738   \n",
      "\n",
      "       ...           178           179           180           181  \\\n",
      "count  ...  14552.000000  14552.000000  14552.000000  14552.000000   \n",
      "mean   ...      0.001190      0.001133      0.000900      0.000739   \n",
      "std    ...      0.021361      0.021012      0.017316      0.014640   \n",
      "min    ...      0.000000      0.000000      0.000000      0.000000   \n",
      "25%    ...      0.000000      0.000000      0.000000      0.000000   \n",
      "50%    ...      0.000000      0.000000      0.000000      0.000000   \n",
      "75%    ...      0.000000      0.000000      0.000000      0.000000   \n",
      "max    ...      0.791899      0.773743      0.789804      0.628177   \n",
      "\n",
      "                182           183           184           185      186  \\\n",
      "count  14552.000000  14552.000000  14552.000000  14552.000000  14552.0   \n",
      "mean       0.000661      0.000475      0.000177      0.000185      0.0   \n",
      "std        0.014033      0.012289      0.006545      0.006835      0.0   \n",
      "min        0.000000      0.000000      0.000000      0.000000      0.0   \n",
      "25%        0.000000      0.000000      0.000000      0.000000      0.0   \n",
      "50%        0.000000      0.000000      0.000000      0.000000      0.0   \n",
      "75%        0.000000      0.000000      0.000000      0.000000      0.0   \n",
      "max        0.602033      0.644880      0.371502      0.376668      0.0   \n",
      "\n",
      "                187  \n",
      "count  14552.000000  \n",
      "mean       0.721963  \n",
      "std        0.448047  \n",
      "min        0.000000  \n",
      "25%        0.000000  \n",
      "50%        1.000000  \n",
      "75%        1.000000  \n",
      "max        1.000000  \n",
      "\n",
      "[8 rows x 188 columns]\n",
      "\n",
      "\n"
     ]
    }
   ],
   "source": [
    "display_descriptive_statistics(df, \"notre base\")"
   ]
  },
  {
   "cell_type": "code",
   "execution_count": 18,
   "id": "869c7a34",
   "metadata": {},
   "outputs": [],
   "source": [
    "# Préparer les ensembles de formation et de test\n",
    "train_size = int(0.8 * len(df))\n",
    "X_train = np.array(df.iloc[:train_size, :-1].values)\n",
    "y_train = np.array(df.iloc[:train_size, -1].values)\n",
    "X_test = np.array(df.iloc[train_size:, :-1].values)\n",
    "y_test = np.array(df.iloc[train_size:, -1].values)"
   ]
  },
  {
   "cell_type": "markdown",
   "id": "858544ce",
   "metadata": {},
   "source": [
    "La première ligne du code calcule la taille de l'ensemble de formation, qui est de 80% de la taille du dataframe df.\n",
    "\n",
    "La deuxième ligne du code crée un tableau NumPy X_train contenant les données d'entraînement. Le tableau est créé en sélectionnant les premières train_size lignes du dataframe df, à l'exception de la dernière colonne. La dernière colonne contient les étiquettes des données, qui sont utilisées pour entraîner le modèle.\n",
    "\n",
    "La troisième ligne du code crée un tableau NumPy y_train contenant les étiquettes d'entraînement. Le tableau est créé en sélectionnant les premières train_size lignes du dataframe df, uniquement la dernière colonne.\n",
    "\n",
    "La quatrième ligne du code crée un tableau NumPy X_test contenant les données de test. Le tableau est créé en sélectionnant les dernières lignes du dataframe df, à l'exception de la dernière colonne.\n",
    "\n",
    "La cinquième ligne du code crée un tableau NumPy y_test contenant les étiquettes de test. Le tableau est créé en sélectionnant les dernières lignes du dataframe df, uniquement la dernière colonne."
   ]
  },
  {
   "cell_type": "code",
   "execution_count": 19,
   "id": "738d16d2",
   "metadata": {},
   "outputs": [],
   "source": [
    "# Charger les données\n",
    "df_abnormal = pd.read_csv('ptbdb_abnormal.csv', header=None)\n",
    "df_normal = pd.read_csv('ptbdb_normal.csv', header=None)\n",
    "\n",
    "\n",
    "# Concaténer les deux dataframes\n",
    "df = pd.concat([df_normal, df_abnormal])\n",
    "\n",
    "# Mélanger les données\n",
    "df = df.sample(frac=1).reset_index(drop=True)\n",
    "\n",
    "\n",
    "# Préparer les ensembles de train et de test\n",
    "train_size = int(0.8 * len(df))\n",
    "X_train = np.array(df.iloc[:train_size, :-1].values)\n",
    "y_train = np.array(df.iloc[:train_size, -1].values)\n",
    "X_test = np.array(df.iloc[train_size:, :-1].values)\n",
    "y_test = np.array(df.iloc[train_size:, -1].values)"
   ]
  },
  {
   "cell_type": "markdown",
   "id": "663badd4",
   "metadata": {},
   "source": [
    "# Modélisation\n"
   ]
  },
  {
   "cell_type": "markdown",
   "id": "f0e9dfc0",
   "metadata": {},
   "source": [
    "Dans le cas de la base PTB Diagnostic ECG Database, le déséquilibre des classes est important. La classe normal est représentée par 4046 enregistrements, tandis que la classe anormal est représentée par 10506 enregistrements. Cela signifie que le modèle est plus susceptible de prédire correctement la classe normal que la classe anormal.\n",
    "\n",
    "Pour réduire le déséquilibre des classes, nous pouvons utiliser l'under sampling ou l'oversampling."
   ]
  },
  {
   "cell_type": "markdown",
   "id": "d0b860c4",
   "metadata": {},
   "source": [
    "# L'oversampling/l'undersampling"
   ]
  },
  {
   "cell_type": "markdown",
   "id": "dbbf9773",
   "metadata": {},
   "source": [
    "## L'Oversampling "
   ]
  },
  {
   "cell_type": "code",
   "execution_count": 20,
   "id": "30cc92f4",
   "metadata": {},
   "outputs": [
    {
     "name": "stdout",
     "output_type": "stream",
     "text": [
      "Classes échantillon oversampled : {1.0: 8410, 0.0: 8410}\n"
     ]
    }
   ],
   "source": [
    "from imblearn.over_sampling import RandomOverSampler\n",
    "\n",
    "\n",
    "# Oversampling aléatoire ##########################################################\n",
    "ros = RandomOverSampler(random_state=42)\n",
    "X_ro, y_ro = ros.fit_resample(X_train, y_train)\n",
    "print('Classes échantillon oversampled :', dict(pd.Series(y_ro).value_counts()))"
   ]
  },
  {
   "cell_type": "markdown",
   "id": "99650beb",
   "metadata": {},
   "source": [
    "## L'Undersampling"
   ]
  },
  {
   "cell_type": "code",
   "execution_count": 21,
   "id": "2a9c9911",
   "metadata": {},
   "outputs": [
    {
     "name": "stdout",
     "output_type": "stream",
     "text": [
      "Classes de l'échantillon undersampled : {1.0: 8410, 0.0: 3231}\n"
     ]
    }
   ],
   "source": [
    "from imblearn.under_sampling import RandomUnderSampler\n",
    "\n",
    "# Random Undersampling ###############################################################\n",
    "rUss = RandomUnderSampler(sampling_strategy=\"not majority\")\n",
    "X_rus, y_rus = rUss.fit_resample(X_train, y_train)\n",
    "print(\"Classes de l'échantillon undersampled :\", dict(pd.Series(y_rus).value_counts()))\n"
   ]
  },
  {
   "cell_type": "markdown",
   "id": "2481b545",
   "metadata": {},
   "source": [
    "# Chargements des bibliothèques"
   ]
  },
  {
   "cell_type": "code",
   "execution_count": 22,
   "id": "c088f8a5",
   "metadata": {},
   "outputs": [],
   "source": [
    "import pandas as pd\n",
    "import numpy as np\n",
    "import seaborn as sns\n",
    "from sklearn.metrics import accuracy_score\n",
    "from sklearn.metrics import classification_report\n",
    "from sklearn.model_selection import train_test_split\n",
    "from sklearn.preprocessing import LabelEncoder\n",
    "from sklearn.model_selection import RandomizedSearchCV\n",
    "\n",
    "from sklearn.svm import SVC\n",
    "from sklearn.ensemble import RandomForestClassifier\n",
    "from sklearn.linear_model import LogisticRegression\n",
    "from sklearn.tree import DecisionTreeClassifier\n",
    "from sklearn import tree\n",
    "from sklearn.neighbors import KNeighborsClassifier\n",
    "from sklearn import neighbors"
   ]
  },
  {
   "cell_type": "markdown",
   "id": "35f7bbbc",
   "metadata": {},
   "source": [
    "# Algorithmes utilisés"
   ]
  },
  {
   "cell_type": "markdown",
   "id": "71137ecd",
   "metadata": {},
   "source": [
    "# 1_RandomForest"
   ]
  },
  {
   "cell_type": "markdown",
   "id": "ad218dbb",
   "metadata": {},
   "source": [
    "## Sélection de modèles"
   ]
  },
  {
   "cell_type": "code",
   "execution_count": 10,
   "id": "86090549",
   "metadata": {},
   "outputs": [
    {
     "name": "stderr",
     "output_type": "stream",
     "text": [
      "C:\\Users\\h.drioueche\\AppData\\Local\\anaconda3\\envs\\ml\\lib\\site-packages\\sklearn\\model_selection\\_validation.py:425: FitFailedWarning: \n",
      "210 fits failed out of a total of 500.\n",
      "The score on these train-test partitions for these parameters will be set to nan.\n",
      "If these failures are not expected, you can try to debug them by setting error_score='raise'.\n",
      "\n",
      "Below are more details about the failures:\n",
      "--------------------------------------------------------------------------------\n",
      "210 fits failed with the following error:\n",
      "Traceback (most recent call last):\n",
      "  File \"C:\\Users\\h.drioueche\\AppData\\Local\\anaconda3\\envs\\ml\\lib\\site-packages\\sklearn\\model_selection\\_validation.py\", line 732, in _fit_and_score\n",
      "    estimator.fit(X_train, y_train, **fit_params)\n",
      "  File \"C:\\Users\\h.drioueche\\AppData\\Local\\anaconda3\\envs\\ml\\lib\\site-packages\\sklearn\\base.py\", line 1144, in wrapper\n",
      "    estimator._validate_params()\n",
      "  File \"C:\\Users\\h.drioueche\\AppData\\Local\\anaconda3\\envs\\ml\\lib\\site-packages\\sklearn\\base.py\", line 637, in _validate_params\n",
      "    validate_parameter_constraints(\n",
      "  File \"C:\\Users\\h.drioueche\\AppData\\Local\\anaconda3\\envs\\ml\\lib\\site-packages\\sklearn\\utils\\_param_validation.py\", line 95, in validate_parameter_constraints\n",
      "    raise InvalidParameterError(\n",
      "sklearn.utils._param_validation.InvalidParameterError: The 'max_features' parameter of RandomForestClassifier must be an int in the range [1, inf), a float in the range (0.0, 1.0], a str among {'log2', 'sqrt'} or None. Got 'auto' instead.\n",
      "\n",
      "  warnings.warn(some_fits_failed_message, FitFailedWarning)\n",
      "C:\\Users\\h.drioueche\\AppData\\Local\\anaconda3\\envs\\ml\\lib\\site-packages\\sklearn\\model_selection\\_search.py:976: UserWarning: One or more of the test scores are non-finite: [0.94338982 0.94811476        nan 0.96890318        nan        nan\n",
      "        nan        nan 0.94175734 0.96718519        nan        nan\n",
      "        nan        nan 0.96529531 0.86942728        nan        nan\n",
      " 0.96624029 0.86684992        nan        nan        nan 0.87415185\n",
      "        nan 0.96933277 0.86865397 0.96435029 0.94596688        nan\n",
      " 0.96177323        nan        nan        nan 0.96314769 0.96709891\n",
      " 0.96581077 0.86882572 0.94476425        nan 0.9683879         nan\n",
      "        nan 0.86813847        nan 0.96125769        nan 0.96443631\n",
      " 0.94287432 0.87054449        nan 0.9647798  0.95103546 0.96452222\n",
      "        nan        nan        nan 0.86650665        nan        nan\n",
      " 0.96031289 0.8684823  0.96812999 0.96709906 0.87406586        nan\n",
      " 0.86564765 0.87337854 0.96615423        nan 0.96675571        nan\n",
      "        nan 0.87045802 0.87054434 0.96177312 0.94785696 0.87028605\n",
      " 0.86959906        nan 0.94596681 0.96091419        nan 0.87020036\n",
      " 0.94759919        nan 0.94553774 0.9427025  0.87380824        nan\n",
      " 0.95112126        nan        nan        nan        nan 0.94820075\n",
      " 0.94725536 0.96855954 0.97122285 0.95919613]\n",
      "  warnings.warn(\n"
     ]
    },
    {
     "name": "stdout",
     "output_type": "stream",
     "text": [
      "{'n_estimators': 150, 'min_samples_split': 2, 'min_samples_leaf': 1, 'max_features': 'sqrt', 'max_depth': None}\n"
     ]
    }
   ],
   "source": [
    "# Définir les hyperparamètres à tester\n",
    "param_grid = {\n",
    "    'n_estimators': np.arange(50, 250, 50),\n",
    "    'max_depth': [None, 5, 10],\n",
    "    'max_features': ['auto', 'sqrt', 'log2'],\n",
    "    'min_samples_split': [2, 5, 10],\n",
    "    'min_samples_leaf': [1, 2, 4],\n",
    "}\n",
    "\n",
    "# Créer une instance du classifieur Random Forest\n",
    "rf = RandomForestClassifier(random_state=42)\n",
    "\n",
    "# Utiliser la recherche aléatoire pour trouver les meilleurs hyperparamètres\n",
    "grid_search = RandomizedSearchCV(rf, param_grid, n_iter=100, cv=5, scoring='accuracy')\n",
    "\n",
    "# Entraînement du modèle sur X_train et y_train\n",
    "grid_search.fit(X_train, y_train)\n",
    "\n",
    "# Afficher les meilleurs hyperparamètres\n",
    "print(grid_search.best_params_)\n"
   ]
  },
  {
   "cell_type": "markdown",
   "id": "ad7d7b96",
   "metadata": {},
   "source": [
    "## Modèle RandomForest "
   ]
  },
  {
   "cell_type": "code",
   "execution_count": 36,
   "id": "f4d75134",
   "metadata": {},
   "outputs": [
    {
     "name": "stdout",
     "output_type": "stream",
     "text": [
      "Notre Random Forest:\n",
      "              precision    recall  f1-score   support\n",
      "\n",
      "         0.0       0.96      0.93      0.95       815\n",
      "         1.0       0.97      0.99      0.98      2096\n",
      "\n",
      "    accuracy                           0.97      2911\n",
      "   macro avg       0.97      0.96      0.96      2911\n",
      "weighted avg       0.97      0.97      0.97      2911\n",
      "\n"
     ]
    },
    {
     "data": {
      "text/plain": [
       "['model_randomforest_ptbdb.joblib']"
      ]
     },
     "execution_count": 36,
     "metadata": {},
     "output_type": "execute_result"
    }
   ],
   "source": [
    "# Random Forest################################################################################################\n",
    "rf = RandomForestClassifier(n_estimators=100,min_samples_split= 2, min_samples_leaf= 1, max_features= 'sqrt', \n",
    "                            max_depth= None, random_state=42)\n",
    "# Entraîner et prédire sur les données  ##################################################################\n",
    "rf.fit(X_train, y_train)\n",
    "y_pred_rf_notre = rf.predict(X_test)\n",
    "print('Notre Random Forest:')\n",
    "print(classification_report(y_test, y_pred_rf_notre))\n",
    "\n",
    "# Sauvegardez le modèle\n",
    "joblib.dump(rf, 'model_randomforest_ptbdb.joblib')"
   ]
  },
  {
   "cell_type": "markdown",
   "id": "e6d0d86c",
   "metadata": {},
   "source": [
    "Notre modèle Random Forest comporte deux classes, à savoir les battements cardiaques normaux (Classe 0) et les battements cardiaques anormaux (Classe 1). Les mesures de performance pour chaque classe sont les suivantes :\n",
    "\n",
    "Classe 0 (Battements cardiaques normaux) :\n",
    "\n",
    "Précision : 96%\n",
    "Rappel : 94%\n",
    "F1-score : 95%\n",
    "Classe 1 (Battements cardiaques anormaux) :\n",
    "\n",
    "Précision : 98%\n",
    "Rappel : 98%\n",
    "F1-score : 98%\n",
    "Ces mesures montrent que le modèle Random Forest a de très bonnes performances pour la classification des deux classes, avec des précisions élevées, des rappels élevés et des scores F1 élevés. L'ensemble du modèle atteint une précision globale de 97%, ce qui indique une performance globale élevée pour la classification des arythmies cardiaques"
   ]
  },
  {
   "cell_type": "code",
   "execution_count": 59,
   "id": "57e93e5f",
   "metadata": {},
   "outputs": [
    {
     "data": {
      "text/html": [
       "<div>\n",
       "<style scoped>\n",
       "    .dataframe tbody tr th:only-of-type {\n",
       "        vertical-align: middle;\n",
       "    }\n",
       "\n",
       "    .dataframe tbody tr th {\n",
       "        vertical-align: top;\n",
       "    }\n",
       "\n",
       "    .dataframe thead th {\n",
       "        text-align: right;\n",
       "    }\n",
       "</style>\n",
       "<table border=\"1\" class=\"dataframe\">\n",
       "  <thead>\n",
       "    <tr style=\"text-align: right;\">\n",
       "      <th>Classe prédite</th>\n",
       "      <th>0.0</th>\n",
       "      <th>1.0</th>\n",
       "    </tr>\n",
       "    <tr>\n",
       "      <th>Classe réelle</th>\n",
       "      <th></th>\n",
       "      <th></th>\n",
       "    </tr>\n",
       "  </thead>\n",
       "  <tbody>\n",
       "    <tr>\n",
       "      <th>0.0</th>\n",
       "      <td>764</td>\n",
       "      <td>47</td>\n",
       "    </tr>\n",
       "    <tr>\n",
       "      <th>1.0</th>\n",
       "      <td>32</td>\n",
       "      <td>2068</td>\n",
       "    </tr>\n",
       "  </tbody>\n",
       "</table>\n",
       "</div>"
      ],
      "text/plain": [
       "Classe prédite  0.0   1.0\n",
       "Classe réelle            \n",
       "0.0             764    47\n",
       "1.0              32  2068"
      ]
     },
     "execution_count": 59,
     "metadata": {},
     "output_type": "execute_result"
    }
   ],
   "source": [
    "# matrice de confusion pour comparer les classes réelles et prédite Random Forest.\n",
    "pd.crosstab(y_test, y_pred_rf_notre, rownames=['Classe réelle'], colnames=['Classe prédite'])"
   ]
  },
  {
   "cell_type": "code",
   "execution_count": 13,
   "id": "05e3911a",
   "metadata": {},
   "outputs": [
    {
     "data": {
      "image/png": "[encoded data removed]",
      "text/plain": [
       "<Figure size 640x480 with 2 Axes>"
      ]
     },
     "metadata": {},
     "output_type": "display_data"
    }
   ],
   "source": [
    "# Matrice de confusion\n",
    "cm = pd.crosstab(y_test, y_pred_rf_notre, rownames=['Classe réelle'], colnames=['Classe prédite'])\n",
    "\n",
    "# Plot de la matrice de confusion\n",
    "sns.heatmap(cm, annot=True, fmt='d', cmap='Blues')\n",
    "plt.title('Matrice de confusion')\n",
    "plt.show()\n"
   ]
  },
  {
   "cell_type": "markdown",
   "id": "8a5a08a1",
   "metadata": {},
   "source": [
    "# Modèle RandomForest :L'Oversampling "
   ]
  },
  {
   "cell_type": "code",
   "execution_count": 37,
   "id": "a25fd2f6",
   "metadata": {},
   "outputs": [
    {
     "name": "stdout",
     "output_type": "stream",
     "text": [
      "Notre Random Forest:\n",
      "              precision    recall  f1-score   support\n",
      "\n",
      "         0.0       0.94      0.95      0.95       815\n",
      "         1.0       0.98      0.98      0.98      2096\n",
      "\n",
      "    accuracy                           0.97      2911\n",
      "   macro avg       0.96      0.96      0.96      2911\n",
      "weighted avg       0.97      0.97      0.97      2911\n",
      "\n"
     ]
    },
    {
     "data": {
      "text/plain": [
       "['model_randomforest_ptbdb_over.joblib']"
      ]
     },
     "execution_count": 37,
     "metadata": {},
     "output_type": "execute_result"
    }
   ],
   "source": [
    "# Random Forest################################################################################################\n",
    "#rf = RandomForestClassifier(n_estimators=100, random_state=42)\n",
    "rf = RandomForestClassifier(n_estimators=100,min_samples_split= 2, min_samples_leaf= 1, \n",
    "                            max_features= 'sqrt', max_depth= None, random_state=42)\n",
    "# Entraîner et prédire sur les données  ##################################################################\n",
    "rf.fit(X_ro, y_ro)\n",
    "y_pred_rf_notre = rf.predict(X_test)\n",
    "print('Notre Random Forest:')\n",
    "print(classification_report(y_test, y_pred_rf_notre))\n",
    "\n",
    "# Sauvegardez le modèle\n",
    "joblib.dump(rf, 'model_randomforest_ptbdb_over.joblib')"
   ]
  },
  {
   "cell_type": "code",
   "execution_count": 15,
   "id": "f8e6c591",
   "metadata": {},
   "outputs": [
    {
     "data": {
      "text/html": [
       "<div>\n",
       "<style scoped>\n",
       "    .dataframe tbody tr th:only-of-type {\n",
       "        vertical-align: middle;\n",
       "    }\n",
       "\n",
       "    .dataframe tbody tr th {\n",
       "        vertical-align: top;\n",
       "    }\n",
       "\n",
       "    .dataframe thead th {\n",
       "        text-align: right;\n",
       "    }\n",
       "</style>\n",
       "<table border=\"1\" class=\"dataframe\">\n",
       "  <thead>\n",
       "    <tr style=\"text-align: right;\">\n",
       "      <th>Classe prédite</th>\n",
       "      <th>0.0</th>\n",
       "      <th>1.0</th>\n",
       "    </tr>\n",
       "    <tr>\n",
       "      <th>Classe réelle</th>\n",
       "      <th></th>\n",
       "      <th></th>\n",
       "    </tr>\n",
       "  </thead>\n",
       "  <tbody>\n",
       "    <tr>\n",
       "      <th>0.0</th>\n",
       "      <td>774</td>\n",
       "      <td>37</td>\n",
       "    </tr>\n",
       "    <tr>\n",
       "      <th>1.0</th>\n",
       "      <td>43</td>\n",
       "      <td>2057</td>\n",
       "    </tr>\n",
       "  </tbody>\n",
       "</table>\n",
       "</div>"
      ],
      "text/plain": [
       "Classe prédite  0.0   1.0\n",
       "Classe réelle            \n",
       "0.0             774    37\n",
       "1.0              43  2057"
      ]
     },
     "execution_count": 15,
     "metadata": {},
     "output_type": "execute_result"
    }
   ],
   "source": [
    "# matrice de confusion pour comparer les classes réelles et prédite Random Forest.\n",
    "pd.crosstab(y_test, y_pred_rf_notre, rownames=['Classe réelle'], colnames=['Classe prédite'])"
   ]
  },
  {
   "cell_type": "code",
   "execution_count": 16,
   "id": "08986591",
   "metadata": {},
   "outputs": [
    {
     "data": {
      "image/png": "[encoded data removed]",
      "text/plain": [
       "<Figure size 640x480 with 2 Axes>"
      ]
     },
     "metadata": {},
     "output_type": "display_data"
    }
   ],
   "source": [
    "# Matrice de confusion\n",
    "cm = pd.crosstab(y_test, y_pred_rf_notre, rownames=['Classe réelle'], colnames=['Classe prédite'])\n",
    "\n",
    "# Plot de la matrice de confusion\n",
    "sns.heatmap(cm, annot=True, fmt='d', cmap='Blues')\n",
    "plt.title('Matrice de confusion')\n",
    "plt.show()\n"
   ]
  },
  {
   "cell_type": "markdown",
   "id": "a9a5fa73",
   "metadata": {},
   "source": [
    "# Modèle RandomForest:  L'Undersampling"
   ]
  },
  {
   "cell_type": "code",
   "execution_count": 38,
   "id": "89d7a13b",
   "metadata": {},
   "outputs": [
    {
     "name": "stdout",
     "output_type": "stream",
     "text": [
      "Notre Random Forest :\n",
      "              precision    recall  f1-score   support\n",
      "\n",
      "         0.0       0.96      0.93      0.95       815\n",
      "         1.0       0.97      0.99      0.98      2096\n",
      "\n",
      "    accuracy                           0.97      2911\n",
      "   macro avg       0.97      0.96      0.96      2911\n",
      "weighted avg       0.97      0.97      0.97      2911\n",
      "\n"
     ]
    },
    {
     "data": {
      "text/plain": [
       "['model_randomforest_ptbdb_under.joblib']"
      ]
     },
     "execution_count": 38,
     "metadata": {},
     "output_type": "execute_result"
    }
   ],
   "source": [
    "#######################################################################################################\n",
    "# Random Forest\n",
    "#rf = RandomForestClassifier(n_estimators=100, random_state=42)\n",
    "rf = RandomForestClassifier(n_estimators=100,min_samples_split= 2, min_samples_leaf= 1, \n",
    "                            max_features= 'sqrt', max_depth= None, random_state=42)\n",
    "# Entraîner et prédire sur les données\n",
    "rf.fit(X_rus, y_rus)\n",
    "y_pred_rf_notre = rf.predict(X_test)\n",
    "print(\"Notre Random Forest :\")\n",
    "print(classification_report(y_test, y_pred_rf_notre))\n",
    "\n",
    "# Sauvegardez le modèle\n",
    "joblib.dump(rf, 'model_randomforest_ptbdb_under.joblib')"
   ]
  },
  {
   "cell_type": "code",
   "execution_count": 18,
   "id": "7042e720",
   "metadata": {},
   "outputs": [
    {
     "data": {
      "text/html": [
       "<div>\n",
       "<style scoped>\n",
       "    .dataframe tbody tr th:only-of-type {\n",
       "        vertical-align: middle;\n",
       "    }\n",
       "\n",
       "    .dataframe tbody tr th {\n",
       "        vertical-align: top;\n",
       "    }\n",
       "\n",
       "    .dataframe thead th {\n",
       "        text-align: right;\n",
       "    }\n",
       "</style>\n",
       "<table border=\"1\" class=\"dataframe\">\n",
       "  <thead>\n",
       "    <tr style=\"text-align: right;\">\n",
       "      <th>Classe prédite</th>\n",
       "      <th>0.0</th>\n",
       "      <th>1.0</th>\n",
       "    </tr>\n",
       "    <tr>\n",
       "      <th>Classe réelle</th>\n",
       "      <th></th>\n",
       "      <th></th>\n",
       "    </tr>\n",
       "  </thead>\n",
       "  <tbody>\n",
       "    <tr>\n",
       "      <th>0.0</th>\n",
       "      <td>755</td>\n",
       "      <td>56</td>\n",
       "    </tr>\n",
       "    <tr>\n",
       "      <th>1.0</th>\n",
       "      <td>36</td>\n",
       "      <td>2064</td>\n",
       "    </tr>\n",
       "  </tbody>\n",
       "</table>\n",
       "</div>"
      ],
      "text/plain": [
       "Classe prédite  0.0   1.0\n",
       "Classe réelle            \n",
       "0.0             755    56\n",
       "1.0              36  2064"
      ]
     },
     "execution_count": 18,
     "metadata": {},
     "output_type": "execute_result"
    }
   ],
   "source": [
    "# matrice de confusion pour comparer les classes réelles et prédite Random Forest.\n",
    "pd.crosstab(y_test, y_pred_rf_notre, rownames=['Classe réelle'], colnames=['Classe prédite'])"
   ]
  },
  {
   "cell_type": "code",
   "execution_count": 19,
   "id": "0982b37c",
   "metadata": {},
   "outputs": [
    {
     "data": {
      "image/png": "[encoded data removed]",
      "text/plain": [
       "<Figure size 640x480 with 2 Axes>"
      ]
     },
     "metadata": {},
     "output_type": "display_data"
    }
   ],
   "source": [
    "# Matrice de confusion\n",
    "cm = pd.crosstab(y_test, y_pred_rf_notre, rownames=['Classe réelle'], colnames=['Classe prédite'])\n",
    "\n",
    "# Plot de la matrice de confusion\n",
    "sns.heatmap(cm, annot=True, fmt='d', cmap='Blues')\n",
    "plt.title('Matrice de confusion')\n",
    "plt.show()\n"
   ]
  },
  {
   "cell_type": "markdown",
   "id": "035b605b",
   "metadata": {},
   "source": [
    "# Choix du modèle"
   ]
  },
  {
   "cell_type": "markdown",
   "id": "f26a221f",
   "metadata": {},
   "source": [
    "Les trois modèles - Modèle 1 Random Forest, Modèle 2 Random Forest avec Oversampling, et Modèle 3 Random Forest avec Undersampling - ont des performances similaires avec une précision globale d'environ 97% pour la prédiction des battements cardiaques.\n",
    "\n",
    "Cependant, pour évaluer le meilleur modèle parmi les trois, il est nécessaire de prendre en compte plusieurs facteurs, tels que le contexte du problème, les objectifs spécifiques, les contraintes et les préférences.\n",
    "\n",
    "Si l'objectif principal est d'obtenir une haute précision globale, les trois modèles semblent fournir des résultats comparables. Cependant, si l'accent est mis sur une métrique particulière, comme la précision, le rappel (recall) ou le score F1 pour une classe spécifique, il serait nécessaire de comparer ces métriques pour chaque modèle.\n",
    "\n",
    "Dans l'état actuel des informations fournies, il n'est pas possible de déterminer le meilleur modèle parmi les trois uniquement sur la base des résultats fournis. Une analyse plus approfondie des métriques spécifiques pour chaque modèle et une évaluation plus détaillée des performances seraient nécessaires pour prendre une décision plus précise."
   ]
  },
  {
   "cell_type": "markdown",
   "id": "0fdcfe63",
   "metadata": {},
   "source": [
    "# 2_SVM"
   ]
  },
  {
   "cell_type": "markdown",
   "id": "0f1512d0",
   "metadata": {},
   "source": [
    "## Sélection de modèles"
   ]
  },
  {
   "cell_type": "code",
   "execution_count": 158,
   "id": "0987a512",
   "metadata": {},
   "outputs": [
    {
     "name": "stdout",
     "output_type": "stream",
     "text": [
      "Meilleurs hyperparamètres :\n",
      "{'kernel': 'rbf', 'gamma': 0.6, 'C': 9}\n"
     ]
    }
   ],
   "source": [
    "# Hyperparamètres à tester\n",
    "param_grid = {\n",
    "    \"kernel\": [\"linear\", \"rbf\", \"poly\"],\n",
    "    \"C\": np.arange(1, 10, 2),\n",
    "    \"gamma\": np.arange(0.1, 1, 0.1),\n",
    "}\n",
    "\n",
    "# Création du modèle SVM\n",
    "svm = SVC()\n",
    "\n",
    "# Création de l'objet de recherche aléatoire\n",
    "grid_search = RandomizedSearchCV(svm, param_grid, n_iter=100, cv=5, scoring='accuracy')\n",
    "\n",
    "# Entraînement du modèle sur X_train et y_train (vos données d'entraînement)\n",
    "grid_search.fit(X_train, y_train)\n",
    "\n",
    "# Afficher les meilleurs hyperparamètres\n",
    "print(\"Meilleurs hyperparamètres :\")\n",
    "print(grid_search.best_params_)\n"
   ]
  },
  {
   "cell_type": "markdown",
   "id": "bf346bde",
   "metadata": {},
   "source": [
    "## Modèle SVM"
   ]
  },
  {
   "cell_type": "code",
   "execution_count": 33,
   "id": "846885be",
   "metadata": {},
   "outputs": [
    {
     "name": "stdout",
     "output_type": "stream",
     "text": [
      "Notre SVM:\n",
      "              precision    recall  f1-score   support\n",
      "\n",
      "         0.0       0.97      0.95      0.96       815\n",
      "         1.0       0.98      0.99      0.98      2096\n",
      "\n",
      "    accuracy                           0.98      2911\n",
      "   macro avg       0.97      0.97      0.97      2911\n",
      "weighted avg       0.98      0.98      0.98      2911\n",
      "\n"
     ]
    },
    {
     "data": {
      "text/plain": [
       "['model_svm_ptbdb.joblib']"
      ]
     },
     "execution_count": 33,
     "metadata": {},
     "output_type": "execute_result"
    }
   ],
   "source": [
    "# Créer un modèle (exemple avec SVM)\n",
    "rf = SVC(kernel= \"rbf\",gamma= 0.6, C= 9)\n",
    "# Entraîner et prédire sur les données ##################################################################\n",
    "rf.fit(X_train, y_train)\n",
    "y_pred_rf_notre = rf.predict(X_test)\n",
    "print('Notre SVM:')\n",
    "print(classification_report(y_test, y_pred_rf_notre))\n",
    "\n",
    "# Sauvegardez le modèle\n",
    "joblib.dump(rf, 'model_svm_ptbdb.joblib')"
   ]
  },
  {
   "cell_type": "markdown",
   "id": "70cd4c9f",
   "metadata": {},
   "source": [
    "Classe 0 (Battements cardiaques normaux) :\n",
    "\n",
    "Précision : 96%\n",
    "Rappel : 96%\n",
    "F1-score : 96%\n",
    "\n",
    "Classe 1 (Battements cardiaques anormaux) :\n",
    "\n",
    "Précision : 98%\n",
    "Rappel : 98%\n",
    "F1-score : 98%\n",
    "\n",
    "L'ensemble du modèle SVM atteint une précision globale de 98%, ce qui indique une performance globale très élevée pour la classification des arythmies cardiaques. Les deux classes sont bien classifiées, avec des mesures de précision, de rappel et de F1-score élevées, suggérant que le modèle SVM est également efficace pour cette tâche de classification."
   ]
  },
  {
   "cell_type": "code",
   "execution_count": 21,
   "id": "f7ac5192",
   "metadata": {},
   "outputs": [
    {
     "data": {
      "text/html": [
       "<div>\n",
       "<style scoped>\n",
       "    .dataframe tbody tr th:only-of-type {\n",
       "        vertical-align: middle;\n",
       "    }\n",
       "\n",
       "    .dataframe tbody tr th {\n",
       "        vertical-align: top;\n",
       "    }\n",
       "\n",
       "    .dataframe thead th {\n",
       "        text-align: right;\n",
       "    }\n",
       "</style>\n",
       "<table border=\"1\" class=\"dataframe\">\n",
       "  <thead>\n",
       "    <tr style=\"text-align: right;\">\n",
       "      <th>Classe prédite</th>\n",
       "      <th>0.0</th>\n",
       "      <th>1.0</th>\n",
       "    </tr>\n",
       "    <tr>\n",
       "      <th>Classe réelle</th>\n",
       "      <th></th>\n",
       "      <th></th>\n",
       "    </tr>\n",
       "  </thead>\n",
       "  <tbody>\n",
       "    <tr>\n",
       "      <th>0.0</th>\n",
       "      <td>779</td>\n",
       "      <td>32</td>\n",
       "    </tr>\n",
       "    <tr>\n",
       "      <th>1.0</th>\n",
       "      <td>33</td>\n",
       "      <td>2067</td>\n",
       "    </tr>\n",
       "  </tbody>\n",
       "</table>\n",
       "</div>"
      ],
      "text/plain": [
       "Classe prédite  0.0   1.0\n",
       "Classe réelle            \n",
       "0.0             779    32\n",
       "1.0              33  2067"
      ]
     },
     "execution_count": 21,
     "metadata": {},
     "output_type": "execute_result"
    }
   ],
   "source": [
    "# matrice de confusion pour comparer les classes réelles et prédite SVM.\n",
    "pd.crosstab(y_test, y_pred_rf_notre, rownames=['Classe réelle'], colnames=['Classe prédite'])"
   ]
  },
  {
   "cell_type": "code",
   "execution_count": 22,
   "id": "00fee11c",
   "metadata": {},
   "outputs": [
    {
     "data": {
      "image/png": "[encoded data removed]",
      "text/plain": [
       "<Figure size 640x480 with 2 Axes>"
      ]
     },
     "metadata": {},
     "output_type": "display_data"
    }
   ],
   "source": [
    "# Matrice de confusion\n",
    "cm = pd.crosstab(y_test, y_pred_rf_notre, rownames=['Classe réelle'], colnames=['Classe prédite'])\n",
    "\n",
    "# Plot de la matrice de confusion\n",
    "sns.heatmap(cm, annot=True, fmt='d', cmap='Blues')\n",
    "plt.title('Matrice de confusion')\n",
    "plt.show()\n"
   ]
  },
  {
   "cell_type": "markdown",
   "id": "26397655",
   "metadata": {},
   "source": [
    "# Modèle SVM:  L'Oversampling"
   ]
  },
  {
   "cell_type": "code",
   "execution_count": 34,
   "id": "77283733",
   "metadata": {},
   "outputs": [
    {
     "name": "stdout",
     "output_type": "stream",
     "text": [
      "Notre SVM Oversampling:\n",
      "              precision    recall  f1-score   support\n",
      "\n",
      "         0.0       0.96      0.95      0.96       815\n",
      "         1.0       0.98      0.99      0.98      2096\n",
      "\n",
      "    accuracy                           0.98      2911\n",
      "   macro avg       0.97      0.97      0.97      2911\n",
      "weighted avg       0.98      0.98      0.98      2911\n",
      "\n"
     ]
    },
    {
     "data": {
      "text/plain": [
       "['model_svm_ptbdb_over.joblib']"
      ]
     },
     "execution_count": 34,
     "metadata": {},
     "output_type": "execute_result"
    }
   ],
   "source": [
    "# SVM t################################################################################################\n",
    "rf = SVC(kernel= \"rbf\",gamma= 0.6, C= 9)\n",
    "\n",
    "# Entraîner et prédire sur les données ##################################################################\n",
    "rf.fit(X_ro, y_ro)\n",
    "y_pred_rf_notre = rf.predict(X_test)\n",
    "print('Notre SVM Oversampling:')\n",
    "print(classification_report(y_test, y_pred_rf_notre))\n",
    "\n",
    "# Sauvegardez le modèle\n",
    "joblib.dump(rf, 'model_svm_ptbdb_over.joblib')"
   ]
  },
  {
   "cell_type": "code",
   "execution_count": 24,
   "id": "8c2ef093",
   "metadata": {},
   "outputs": [
    {
     "data": {
      "text/html": [
       "<div>\n",
       "<style scoped>\n",
       "    .dataframe tbody tr th:only-of-type {\n",
       "        vertical-align: middle;\n",
       "    }\n",
       "\n",
       "    .dataframe tbody tr th {\n",
       "        vertical-align: top;\n",
       "    }\n",
       "\n",
       "    .dataframe thead th {\n",
       "        text-align: right;\n",
       "    }\n",
       "</style>\n",
       "<table border=\"1\" class=\"dataframe\">\n",
       "  <thead>\n",
       "    <tr style=\"text-align: right;\">\n",
       "      <th>Classe prédite</th>\n",
       "      <th>0.0</th>\n",
       "      <th>1.0</th>\n",
       "    </tr>\n",
       "    <tr>\n",
       "      <th>Classe réelle</th>\n",
       "      <th></th>\n",
       "      <th></th>\n",
       "    </tr>\n",
       "  </thead>\n",
       "  <tbody>\n",
       "    <tr>\n",
       "      <th>0.0</th>\n",
       "      <td>779</td>\n",
       "      <td>32</td>\n",
       "    </tr>\n",
       "    <tr>\n",
       "      <th>1.0</th>\n",
       "      <td>37</td>\n",
       "      <td>2063</td>\n",
       "    </tr>\n",
       "  </tbody>\n",
       "</table>\n",
       "</div>"
      ],
      "text/plain": [
       "Classe prédite  0.0   1.0\n",
       "Classe réelle            \n",
       "0.0             779    32\n",
       "1.0              37  2063"
      ]
     },
     "execution_count": 24,
     "metadata": {},
     "output_type": "execute_result"
    }
   ],
   "source": [
    "# matrice de confusion pour comparer les classes réelles et prédite Random Forest.\n",
    "pd.crosstab(y_test, y_pred_rf_notre, rownames=['Classe réelle'], colnames=['Classe prédite'])"
   ]
  },
  {
   "cell_type": "code",
   "execution_count": 25,
   "id": "4c92f9c4",
   "metadata": {},
   "outputs": [
    {
     "data": {
      "image/png": "[encoded data removed]",
      "text/plain": [
       "<Figure size 640x480 with 2 Axes>"
      ]
     },
     "metadata": {},
     "output_type": "display_data"
    }
   ],
   "source": [
    "# Matrice de confusion\n",
    "cm = pd.crosstab(y_test, y_pred_rf_notre, rownames=['Classe réelle'], colnames=['Classe prédite'])\n",
    "\n",
    "# Plot de la matrice de confusion\n",
    "sns.heatmap(cm, annot=True, fmt='d', cmap='Blues')\n",
    "plt.title('Matrice de confusion')\n",
    "plt.show()\n"
   ]
  },
  {
   "cell_type": "markdown",
   "id": "f47902bc",
   "metadata": {},
   "source": [
    "# Modèle SVM:  L'Undersampling¶"
   ]
  },
  {
   "cell_type": "code",
   "execution_count": 35,
   "id": "7acf2046",
   "metadata": {},
   "outputs": [
    {
     "name": "stdout",
     "output_type": "stream",
     "text": [
      "Notre SVM undersamplingt :\n",
      "              precision    recall  f1-score   support\n",
      "\n",
      "         0.0       0.97      0.95      0.96       815\n",
      "         1.0       0.98      0.99      0.98      2096\n",
      "\n",
      "    accuracy                           0.98      2911\n",
      "   macro avg       0.97      0.97      0.97      2911\n",
      "weighted avg       0.98      0.98      0.98      2911\n",
      "\n"
     ]
    },
    {
     "data": {
      "text/plain": [
       "['model_svm_ptbdb_under.joblib']"
      ]
     },
     "execution_count": 35,
     "metadata": {},
     "output_type": "execute_result"
    }
   ],
   "source": [
    "# SVM ######################################################################################################\n",
    "rf = SVC(kernel= \"rbf\",gamma= 0.6, C= 9)\n",
    "\n",
    "# Entraîner et prédire sur les données\n",
    "rf.fit(X_rus, y_rus)\n",
    "y_pred_rf_notre = rf.predict(X_test)\n",
    "print(\"Notre SVM undersamplingt :\")\n",
    "print(classification_report(y_test, y_pred_rf_notre))\n",
    "\n",
    "# Sauvegardez le modèle\n",
    "joblib.dump(rf, 'model_svm_ptbdb_under.joblib')"
   ]
  },
  {
   "cell_type": "code",
   "execution_count": 27,
   "id": "4133099b",
   "metadata": {},
   "outputs": [
    {
     "data": {
      "text/html": [
       "<div>\n",
       "<style scoped>\n",
       "    .dataframe tbody tr th:only-of-type {\n",
       "        vertical-align: middle;\n",
       "    }\n",
       "\n",
       "    .dataframe tbody tr th {\n",
       "        vertical-align: top;\n",
       "    }\n",
       "\n",
       "    .dataframe thead th {\n",
       "        text-align: right;\n",
       "    }\n",
       "</style>\n",
       "<table border=\"1\" class=\"dataframe\">\n",
       "  <thead>\n",
       "    <tr style=\"text-align: right;\">\n",
       "      <th>Classe prédite</th>\n",
       "      <th>0.0</th>\n",
       "      <th>1.0</th>\n",
       "    </tr>\n",
       "    <tr>\n",
       "      <th>Classe réelle</th>\n",
       "      <th></th>\n",
       "      <th></th>\n",
       "    </tr>\n",
       "  </thead>\n",
       "  <tbody>\n",
       "    <tr>\n",
       "      <th>0.0</th>\n",
       "      <td>779</td>\n",
       "      <td>32</td>\n",
       "    </tr>\n",
       "    <tr>\n",
       "      <th>1.0</th>\n",
       "      <td>33</td>\n",
       "      <td>2067</td>\n",
       "    </tr>\n",
       "  </tbody>\n",
       "</table>\n",
       "</div>"
      ],
      "text/plain": [
       "Classe prédite  0.0   1.0\n",
       "Classe réelle            \n",
       "0.0             779    32\n",
       "1.0              33  2067"
      ]
     },
     "execution_count": 27,
     "metadata": {},
     "output_type": "execute_result"
    }
   ],
   "source": [
    "# matrice de confusion pour comparer les classes réelles et prédite Random Forest.\n",
    "pd.crosstab(y_test, y_pred_rf_notre, rownames=['Classe réelle'], colnames=['Classe prédite'])"
   ]
  },
  {
   "cell_type": "code",
   "execution_count": 28,
   "id": "53f811cc",
   "metadata": {},
   "outputs": [
    {
     "data": {
      "image/png": "[encoded data removed]",
      "text/plain": [
       "<Figure size 640x480 with 2 Axes>"
      ]
     },
     "metadata": {},
     "output_type": "display_data"
    }
   ],
   "source": [
    "# Matrice de confusion\n",
    "cm = pd.crosstab(y_test, y_pred_rf_notre, rownames=['Classe réelle'], colnames=['Classe prédite'])\n",
    "\n",
    "# Plot de la matrice de confusion\n",
    "sns.heatmap(cm, annot=True, fmt='d', cmap='Blues')\n",
    "plt.title('Matrice de confusion')\n",
    "plt.show()\n"
   ]
  },
  {
   "cell_type": "markdown",
   "id": "94a8e99c",
   "metadata": {},
   "source": [
    "# Choix du modèle"
   ]
  },
  {
   "cell_type": "markdown",
   "id": "60f48691",
   "metadata": {},
   "source": [
    "Sur la base des résultats fournis, les trois modèles SVM semblent offrir des performances équivalentes en termes de précision, de rappel (recall) et de score F1. La différence entre les modèles est minime."
   ]
  },
  {
   "cell_type": "markdown",
   "id": "3f4d529f",
   "metadata": {},
   "source": [
    "# 3_Régression logistique"
   ]
  },
  {
   "cell_type": "markdown",
   "id": "6dde8698",
   "metadata": {},
   "source": [
    "## Sélection de modèles"
   ]
  },
  {
   "cell_type": "code",
   "execution_count": 274,
   "id": "bcbab55b",
   "metadata": {},
   "outputs": [
    {
     "name": "stderr",
     "output_type": "stream",
     "text": [
      "C:\\Users\\h.drioueche\\AppData\\Local\\anaconda3\\envs\\ml\\lib\\site-packages\\sklearn\\linear_model\\_sag.py:350: ConvergenceWarning: The max_iter was reached which means the coef_ did not converge\n",
      "  warnings.warn(\n",
      "C:\\Users\\h.drioueche\\AppData\\Local\\anaconda3\\envs\\ml\\lib\\site-packages\\sklearn\\linear_model\\_sag.py:350: ConvergenceWarning: The max_iter was reached which means the coef_ did not converge\n",
      "  warnings.warn(\n",
      "C:\\Users\\h.drioueche\\AppData\\Local\\anaconda3\\envs\\ml\\lib\\site-packages\\sklearn\\linear_model\\_sag.py:350: ConvergenceWarning: The max_iter was reached which means the coef_ did not converge\n",
      "  warnings.warn(\n",
      "C:\\Users\\h.drioueche\\AppData\\Local\\anaconda3\\envs\\ml\\lib\\site-packages\\sklearn\\linear_model\\_sag.py:350: ConvergenceWarning: The max_iter was reached which means the coef_ did not converge\n",
      "  warnings.warn(\n",
      "C:\\Users\\h.drioueche\\AppData\\Local\\anaconda3\\envs\\ml\\lib\\site-packages\\sklearn\\linear_model\\_sag.py:350: ConvergenceWarning: The max_iter was reached which means the coef_ did not converge\n",
      "  warnings.warn(\n",
      "C:\\Users\\h.drioueche\\AppData\\Local\\anaconda3\\envs\\ml\\lib\\site-packages\\sklearn\\linear_model\\_logistic.py:460: ConvergenceWarning: lbfgs failed to converge (status=1):\n",
      "STOP: TOTAL NO. of ITERATIONS REACHED LIMIT.\n",
      "\n",
      "Increase the number of iterations (max_iter) or scale the data as shown in:\n",
      "    https://scikit-learn.org/stable/modules/preprocessing.html\n",
      "Please also refer to the documentation for alternative solver options:\n",
      "    https://scikit-learn.org/stable/modules/linear_model.html#logistic-regression\n",
      "  n_iter_i = _check_optimize_result(\n",
      "C:\\Users\\h.drioueche\\AppData\\Local\\anaconda3\\envs\\ml\\lib\\site-packages\\sklearn\\linear_model\\_logistic.py:460: ConvergenceWarning: lbfgs failed to converge (status=1):\n",
      "STOP: TOTAL NO. of ITERATIONS REACHED LIMIT.\n",
      "\n",
      "Increase the number of iterations (max_iter) or scale the data as shown in:\n",
      "    https://scikit-learn.org/stable/modules/preprocessing.html\n",
      "Please also refer to the documentation for alternative solver options:\n",
      "    https://scikit-learn.org/stable/modules/linear_model.html#logistic-regression\n",
      "  n_iter_i = _check_optimize_result(\n",
      "C:\\Users\\h.drioueche\\AppData\\Local\\anaconda3\\envs\\ml\\lib\\site-packages\\sklearn\\linear_model\\_logistic.py:460: ConvergenceWarning: lbfgs failed to converge (status=1):\n",
      "STOP: TOTAL NO. of ITERATIONS REACHED LIMIT.\n",
      "\n",
      "Increase the number of iterations (max_iter) or scale the data as shown in:\n",
      "    https://scikit-learn.org/stable/modules/preprocessing.html\n",
      "Please also refer to the documentation for alternative solver options:\n",
      "    https://scikit-learn.org/stable/modules/linear_model.html#logistic-regression\n",
      "  n_iter_i = _check_optimize_result(\n",
      "C:\\Users\\h.drioueche\\AppData\\Local\\anaconda3\\envs\\ml\\lib\\site-packages\\sklearn\\linear_model\\_logistic.py:460: ConvergenceWarning: lbfgs failed to converge (status=1):\n",
      "STOP: TOTAL NO. of ITERATIONS REACHED LIMIT.\n",
      "\n",
      "Increase the number of iterations (max_iter) or scale the data as shown in:\n",
      "    https://scikit-learn.org/stable/modules/preprocessing.html\n",
      "Please also refer to the documentation for alternative solver options:\n",
      "    https://scikit-learn.org/stable/modules/linear_model.html#logistic-regression\n",
      "  n_iter_i = _check_optimize_result(\n",
      "C:\\Users\\h.drioueche\\AppData\\Local\\anaconda3\\envs\\ml\\lib\\site-packages\\sklearn\\linear_model\\_logistic.py:460: ConvergenceWarning: lbfgs failed to converge (status=1):\n",
      "STOP: TOTAL NO. of ITERATIONS REACHED LIMIT.\n",
      "\n",
      "Increase the number of iterations (max_iter) or scale the data as shown in:\n",
      "    https://scikit-learn.org/stable/modules/preprocessing.html\n",
      "Please also refer to the documentation for alternative solver options:\n",
      "    https://scikit-learn.org/stable/modules/linear_model.html#logistic-regression\n",
      "  n_iter_i = _check_optimize_result(\n",
      "C:\\Users\\h.drioueche\\AppData\\Local\\anaconda3\\envs\\ml\\lib\\site-packages\\sklearn\\linear_model\\_sag.py:350: ConvergenceWarning: The max_iter was reached which means the coef_ did not converge\n",
      "  warnings.warn(\n",
      "C:\\Users\\h.drioueche\\AppData\\Local\\anaconda3\\envs\\ml\\lib\\site-packages\\sklearn\\linear_model\\_sag.py:350: ConvergenceWarning: The max_iter was reached which means the coef_ did not converge\n",
      "  warnings.warn(\n",
      "C:\\Users\\h.drioueche\\AppData\\Local\\anaconda3\\envs\\ml\\lib\\site-packages\\sklearn\\linear_model\\_logistic.py:460: ConvergenceWarning: lbfgs failed to converge (status=1):\n",
      "STOP: TOTAL NO. of ITERATIONS REACHED LIMIT.\n",
      "\n",
      "Increase the number of iterations (max_iter) or scale the data as shown in:\n",
      "    https://scikit-learn.org/stable/modules/preprocessing.html\n",
      "Please also refer to the documentation for alternative solver options:\n",
      "    https://scikit-learn.org/stable/modules/linear_model.html#logistic-regression\n",
      "  n_iter_i = _check_optimize_result(\n",
      "C:\\Users\\h.drioueche\\AppData\\Local\\anaconda3\\envs\\ml\\lib\\site-packages\\sklearn\\linear_model\\_logistic.py:460: ConvergenceWarning: lbfgs failed to converge (status=1):\n",
      "STOP: TOTAL NO. of ITERATIONS REACHED LIMIT.\n",
      "\n",
      "Increase the number of iterations (max_iter) or scale the data as shown in:\n",
      "    https://scikit-learn.org/stable/modules/preprocessing.html\n",
      "Please also refer to the documentation for alternative solver options:\n",
      "    https://scikit-learn.org/stable/modules/linear_model.html#logistic-regression\n",
      "  n_iter_i = _check_optimize_result(\n",
      "C:\\Users\\h.drioueche\\AppData\\Local\\anaconda3\\envs\\ml\\lib\\site-packages\\sklearn\\linear_model\\_logistic.py:460: ConvergenceWarning: lbfgs failed to converge (status=1):\n",
      "STOP: TOTAL NO. of ITERATIONS REACHED LIMIT.\n",
      "\n",
      "Increase the number of iterations (max_iter) or scale the data as shown in:\n",
      "    https://scikit-learn.org/stable/modules/preprocessing.html\n",
      "Please also refer to the documentation for alternative solver options:\n",
      "    https://scikit-learn.org/stable/modules/linear_model.html#logistic-regression\n",
      "  n_iter_i = _check_optimize_result(\n",
      "C:\\Users\\h.drioueche\\AppData\\Local\\anaconda3\\envs\\ml\\lib\\site-packages\\sklearn\\linear_model\\_logistic.py:460: ConvergenceWarning: lbfgs failed to converge (status=1):\n",
      "STOP: TOTAL NO. of ITERATIONS REACHED LIMIT.\n",
      "\n",
      "Increase the number of iterations (max_iter) or scale the data as shown in:\n",
      "    https://scikit-learn.org/stable/modules/preprocessing.html\n",
      "Please also refer to the documentation for alternative solver options:\n",
      "    https://scikit-learn.org/stable/modules/linear_model.html#logistic-regression\n",
      "  n_iter_i = _check_optimize_result(\n",
      "C:\\Users\\h.drioueche\\AppData\\Local\\anaconda3\\envs\\ml\\lib\\site-packages\\sklearn\\linear_model\\_logistic.py:460: ConvergenceWarning: lbfgs failed to converge (status=1):\n",
      "STOP: TOTAL NO. of ITERATIONS REACHED LIMIT.\n",
      "\n",
      "Increase the number of iterations (max_iter) or scale the data as shown in:\n",
      "    https://scikit-learn.org/stable/modules/preprocessing.html\n",
      "Please also refer to the documentation for alternative solver options:\n",
      "    https://scikit-learn.org/stable/modules/linear_model.html#logistic-regression\n",
      "  n_iter_i = _check_optimize_result(\n"
     ]
    },
    {
     "name": "stdout",
     "output_type": "stream",
     "text": [
      "Meilleurs hyperparamètres :\n",
      "{'solver': 'lbfgs', 'max_iter': 5000, 'C': 21}\n"
     ]
    }
   ],
   "source": [
    "# Hyperparamètres à tester\n",
    "param_grid = {\n",
    "    \"C\": np.arange(1, 100, 20),\n",
    "    \"solver\": [\"lbfgs\", \"newton-cg\", \"saga\"],\n",
    "    \"max_iter\": [100, 200,1000,2000, 5000],\n",
    "}\n",
    "\n",
    "# Création du modèle de régression logistique\n",
    "logistic_regression = LogisticRegression()\n",
    "\n",
    "# Création de l'objet de recherche aléatoire\n",
    "grid_search = RandomizedSearchCV(logistic_regression, param_grid, n_iter=10, cv=5, scoring='accuracy')\n",
    "\n",
    "# Entraînement du modèle sur X_train et y_train (vos données d'entraînement)\n",
    "grid_search.fit(X_train, y_train)\n",
    "\n",
    "# Afficher les meilleurs hyperparamètres\n",
    "print(\"Meilleurs hyperparamètres :\")\n",
    "print(grid_search.best_params_)\n"
   ]
  },
  {
   "cell_type": "markdown",
   "id": "b7588073",
   "metadata": {},
   "source": [
    "## Modèle régression logistique"
   ]
  },
  {
   "cell_type": "code",
   "execution_count": 29,
   "id": "1f8ec7f3",
   "metadata": {
    "scrolled": true
   },
   "outputs": [
    {
     "name": "stdout",
     "output_type": "stream",
     "text": [
      "Notre Régression logistique:\n",
      "              precision    recall  f1-score   support\n",
      "\n",
      "         0.0       0.72      0.58      0.64       815\n",
      "         1.0       0.85      0.91      0.88      2096\n",
      "\n",
      "    accuracy                           0.82      2911\n",
      "   macro avg       0.78      0.75      0.76      2911\n",
      "weighted avg       0.81      0.82      0.81      2911\n",
      "\n"
     ]
    },
    {
     "data": {
      "text/plain": [
       "['model_logisticregression_ptbdb.joblib']"
      ]
     },
     "execution_count": 29,
     "metadata": {},
     "output_type": "execute_result"
    }
   ],
   "source": [
    "# Regression logistiquet################################################################################################\n",
    "rf = LogisticRegression(solver='lbfgs', max_iter=5000, C=21,random_state=42)\n",
    "# Entraîner et prédire sur les données ##################################################################\n",
    "rf.fit(X_train, y_train)\n",
    "y_pred_rf_notre = rf.predict(X_test)\n",
    "print('Notre Régression logistique:')\n",
    "print(classification_report(y_test, y_pred_rf_notre))\n",
    "\n",
    "# Sauvegardez le modèle\n",
    "joblib.dump(rf, 'model_logisticregression_ptbdb.joblib')"
   ]
  },
  {
   "cell_type": "code",
   "execution_count": 24,
   "id": "f001c467",
   "metadata": {},
   "outputs": [
    {
     "data": {
      "text/html": [
       "<div>\n",
       "<style scoped>\n",
       "    .dataframe tbody tr th:only-of-type {\n",
       "        vertical-align: middle;\n",
       "    }\n",
       "\n",
       "    .dataframe tbody tr th {\n",
       "        vertical-align: top;\n",
       "    }\n",
       "\n",
       "    .dataframe thead th {\n",
       "        text-align: right;\n",
       "    }\n",
       "</style>\n",
       "<table border=\"1\" class=\"dataframe\">\n",
       "  <thead>\n",
       "    <tr style=\"text-align: right;\">\n",
       "      <th>Classe prédite</th>\n",
       "      <th>0.0</th>\n",
       "      <th>1.0</th>\n",
       "    </tr>\n",
       "    <tr>\n",
       "      <th>Classe réelle</th>\n",
       "      <th></th>\n",
       "      <th></th>\n",
       "    </tr>\n",
       "  </thead>\n",
       "  <tbody>\n",
       "    <tr>\n",
       "      <th>0.0</th>\n",
       "      <td>526</td>\n",
       "      <td>293</td>\n",
       "    </tr>\n",
       "    <tr>\n",
       "      <th>1.0</th>\n",
       "      <td>187</td>\n",
       "      <td>1905</td>\n",
       "    </tr>\n",
       "  </tbody>\n",
       "</table>\n",
       "</div>"
      ],
      "text/plain": [
       "Classe prédite  0.0   1.0\n",
       "Classe réelle            \n",
       "0.0             526   293\n",
       "1.0             187  1905"
      ]
     },
     "execution_count": 24,
     "metadata": {},
     "output_type": "execute_result"
    }
   ],
   "source": [
    "# matrice de confusion pour comparer les classes réelles et prédite régression logistique.\n",
    "pd.crosstab(y_test, y_pred_rf_notre, rownames=['Classe réelle'], colnames=['Classe prédite'])"
   ]
  },
  {
   "cell_type": "markdown",
   "id": "845ec4af",
   "metadata": {},
   "source": [
    "Classe 0 (Battements cardiaques normaux) :\n",
    "\n",
    "Précision : 74%\n",
    "Rappel : 64%\n",
    "F1-score : 69%\n",
    "\n",
    "Classe 1 (Battements cardiaques anormaux) :\n",
    "\n",
    "Précision : 87%\n",
    "Rappel : 91%\n",
    "F1-score : 89%\n",
    "\n",
    "L'ensemble du modèle de régression logistique atteint une précision globale de 84%. Cela indique que le modèle est raisonnablement efficace pour la classification des arythmies cardiaques, mais il semble y avoir une différence significative de performance entre les deux classes. Le modèle a une meilleure performance pour la classe 1 (battements cardiaques anormaux) par rapport à la classe 0 (battements cardiaques normaux), en termes de précision, de rappel et de F1-score."
   ]
  },
  {
   "cell_type": "code",
   "execution_count": 25,
   "id": "79ee5209",
   "metadata": {},
   "outputs": [
    {
     "data": {
      "image/png": "[encoded data removed]",
      "text/plain": [
       "<Figure size 640x480 with 2 Axes>"
      ]
     },
     "metadata": {},
     "output_type": "display_data"
    }
   ],
   "source": [
    "# Matrice de confusion\n",
    "cm = pd.crosstab(y_test, y_pred_rf_notre, rownames=['Classe réelle'], colnames=['Classe prédite'])\n",
    "\n",
    "# Plot de la matrice de confusion\n",
    "sns.heatmap(cm, annot=True, fmt='d', cmap='Blues')\n",
    "plt.title('Matrice de confusion')\n",
    "plt.show()\n"
   ]
  },
  {
   "cell_type": "markdown",
   "id": "4f953deb",
   "metadata": {},
   "source": [
    "# Modèle regression logistique:  L'Oversampling"
   ]
  },
  {
   "cell_type": "code",
   "execution_count": 30,
   "id": "9911f687",
   "metadata": {},
   "outputs": [
    {
     "name": "stdout",
     "output_type": "stream",
     "text": [
      "Notre regression logistique Oversampling:\n",
      "              precision    recall  f1-score   support\n",
      "\n",
      "         0.0       0.58      0.81      0.68       815\n",
      "         1.0       0.91      0.78      0.84      2096\n",
      "\n",
      "    accuracy                           0.79      2911\n",
      "   macro avg       0.75      0.79      0.76      2911\n",
      "weighted avg       0.82      0.79      0.79      2911\n",
      "\n"
     ]
    },
    {
     "data": {
      "text/plain": [
       "['model_logisticregression_ptbdb_over.joblib']"
      ]
     },
     "execution_count": 30,
     "metadata": {},
     "output_type": "execute_result"
    }
   ],
   "source": [
    "# Regression logistiquet################################################################################################\n",
    "rf = LogisticRegression(solver='lbfgs', max_iter=5000, C=21,random_state=42)\n",
    "#Entraîner et prédire sur les données Notre base ##################################################################\n",
    "rf.fit(X_ro, y_ro)\n",
    "y_pred_rf_notre = rf.predict(X_test)\n",
    "print('Notre regression logistique Oversampling:')\n",
    "print(classification_report(y_test, y_pred_rf_notre))\n",
    "\n",
    "# Sauvegardez le modèle\n",
    "joblib.dump(rf, 'model_logisticregression_ptbdb_over.joblib')"
   ]
  },
  {
   "cell_type": "code",
   "execution_count": 18,
   "id": "e9eb0154",
   "metadata": {},
   "outputs": [
    {
     "data": {
      "text/html": [
       "<div>\n",
       "<style scoped>\n",
       "    .dataframe tbody tr th:only-of-type {\n",
       "        vertical-align: middle;\n",
       "    }\n",
       "\n",
       "    .dataframe tbody tr th {\n",
       "        vertical-align: top;\n",
       "    }\n",
       "\n",
       "    .dataframe thead th {\n",
       "        text-align: right;\n",
       "    }\n",
       "</style>\n",
       "<table border=\"1\" class=\"dataframe\">\n",
       "  <thead>\n",
       "    <tr style=\"text-align: right;\">\n",
       "      <th>Classe prédite</th>\n",
       "      <th>0.0</th>\n",
       "      <th>1.0</th>\n",
       "    </tr>\n",
       "    <tr>\n",
       "      <th>Classe réelle</th>\n",
       "      <th></th>\n",
       "      <th></th>\n",
       "    </tr>\n",
       "  </thead>\n",
       "  <tbody>\n",
       "    <tr>\n",
       "      <th>0.0</th>\n",
       "      <td>698</td>\n",
       "      <td>121</td>\n",
       "    </tr>\n",
       "    <tr>\n",
       "      <th>1.0</th>\n",
       "      <td>491</td>\n",
       "      <td>1601</td>\n",
       "    </tr>\n",
       "  </tbody>\n",
       "</table>\n",
       "</div>"
      ],
      "text/plain": [
       "Classe prédite  0.0   1.0\n",
       "Classe réelle            \n",
       "0.0             698   121\n",
       "1.0             491  1601"
      ]
     },
     "execution_count": 18,
     "metadata": {},
     "output_type": "execute_result"
    }
   ],
   "source": [
    "# matrice de confusion pour comparer les classes réelles et prédite Random Forest.\n",
    "pd.crosstab(y_test, y_pred_rf_notre, rownames=['Classe réelle'], colnames=['Classe prédite'])"
   ]
  },
  {
   "cell_type": "code",
   "execution_count": 19,
   "id": "34ba43e4",
   "metadata": {},
   "outputs": [
    {
     "data": {
      "image/png": "[encoded data removed]",
      "text/plain": [
       "<Figure size 640x480 with 2 Axes>"
      ]
     },
     "metadata": {},
     "output_type": "display_data"
    }
   ],
   "source": [
    "# Matrice de confusion\n",
    "cm = pd.crosstab(y_test, y_pred_rf_notre, rownames=['Classe réelle'], colnames=['Classe prédite'])\n",
    "\n",
    "# Plot de la matrice de confusion\n",
    "sns.heatmap(cm, annot=True, fmt='d', cmap='Blues')\n",
    "plt.title('Matrice de confusion')\n",
    "plt.show()"
   ]
  },
  {
   "cell_type": "markdown",
   "id": "05c888b8",
   "metadata": {},
   "source": [
    "# Modèle regression logistique:  L'Undersampling¶"
   ]
  },
  {
   "cell_type": "code",
   "execution_count": 32,
   "id": "b66a5db2",
   "metadata": {},
   "outputs": [
    {
     "name": "stdout",
     "output_type": "stream",
     "text": [
      "Notre regression logistique undersamplingt :\n",
      "              precision    recall  f1-score   support\n",
      "\n",
      "         0.0       0.72      0.58      0.64       815\n",
      "         1.0       0.85      0.91      0.88      2096\n",
      "\n",
      "    accuracy                           0.82      2911\n",
      "   macro avg       0.78      0.75      0.76      2911\n",
      "weighted avg       0.81      0.82      0.81      2911\n",
      "\n"
     ]
    },
    {
     "data": {
      "text/plain": [
       "['model_logisticregression_ptbdb_under.joblib']"
      ]
     },
     "execution_count": 32,
     "metadata": {},
     "output_type": "execute_result"
    }
   ],
   "source": [
    "# Regression logistique ######################################################################################################\n",
    "\n",
    "rf = LogisticRegression(solver='lbfgs', max_iter=5000, C=21,random_state=42)\n",
    "# Entraîner et prédire sur les données\n",
    "rf.fit(X_rus, y_rus)\n",
    "y_pred_rf_notre = rf.predict(X_test)\n",
    "print(\"Notre regression logistique undersamplingt :\")\n",
    "print(classification_report(y_test, y_pred_rf_notre))\n",
    "\n",
    "# Sauvegardez le modèle\n",
    "joblib.dump(rf, 'model_logisticregression_ptbdb_under.joblib')"
   ]
  },
  {
   "cell_type": "code",
   "execution_count": 21,
   "id": "d6623797",
   "metadata": {},
   "outputs": [
    {
     "data": {
      "text/html": [
       "<div>\n",
       "<style scoped>\n",
       "    .dataframe tbody tr th:only-of-type {\n",
       "        vertical-align: middle;\n",
       "    }\n",
       "\n",
       "    .dataframe tbody tr th {\n",
       "        vertical-align: top;\n",
       "    }\n",
       "\n",
       "    .dataframe thead th {\n",
       "        text-align: right;\n",
       "    }\n",
       "</style>\n",
       "<table border=\"1\" class=\"dataframe\">\n",
       "  <thead>\n",
       "    <tr style=\"text-align: right;\">\n",
       "      <th>Classe prédite</th>\n",
       "      <th>0.0</th>\n",
       "      <th>1.0</th>\n",
       "    </tr>\n",
       "    <tr>\n",
       "      <th>Classe réelle</th>\n",
       "      <th></th>\n",
       "      <th></th>\n",
       "    </tr>\n",
       "  </thead>\n",
       "  <tbody>\n",
       "    <tr>\n",
       "      <th>0.0</th>\n",
       "      <td>526</td>\n",
       "      <td>293</td>\n",
       "    </tr>\n",
       "    <tr>\n",
       "      <th>1.0</th>\n",
       "      <td>187</td>\n",
       "      <td>1905</td>\n",
       "    </tr>\n",
       "  </tbody>\n",
       "</table>\n",
       "</div>"
      ],
      "text/plain": [
       "Classe prédite  0.0   1.0\n",
       "Classe réelle            \n",
       "0.0             526   293\n",
       "1.0             187  1905"
      ]
     },
     "execution_count": 21,
     "metadata": {},
     "output_type": "execute_result"
    }
   ],
   "source": [
    "# matrice de confusion pour comparer les classes réelles et prédite Random Forest.\n",
    "pd.crosstab(y_test, y_pred_rf_notre, rownames=['Classe réelle'], colnames=['Classe prédite'])"
   ]
  },
  {
   "cell_type": "code",
   "execution_count": 22,
   "id": "659fe0b8",
   "metadata": {},
   "outputs": [
    {
     "data": {
      "image/png": "[encoded data removed]",
      "text/plain": [
       "<Figure size 640x480 with 2 Axes>"
      ]
     },
     "metadata": {},
     "output_type": "display_data"
    }
   ],
   "source": [
    "# Matrice de confusion\n",
    "cm = pd.crosstab(y_test, y_pred_rf_notre, rownames=['Classe réelle'], colnames=['Classe prédite'])\n",
    "\n",
    "# Plot de la matrice de confusion\n",
    "sns.heatmap(cm, annot=True, fmt='d', cmap='Blues')\n",
    "plt.title('Matrice de confusion')\n",
    "plt.show()"
   ]
  },
  {
   "cell_type": "markdown",
   "id": "cca52847",
   "metadata": {},
   "source": [
    "# Choix du modèle"
   ]
  },
  {
   "cell_type": "markdown",
   "id": "73bcb31f",
   "metadata": {},
   "source": [
    "Sur la base des résultats fournis, le Modèle 1 régression logistique et le Modèle 3 régression logistique avec Undersampling semblent avoir des performances similaires, avec une précision globale d'environ 84% pour la prédiction des battements cardiaques. Le Modèle 2 régression logistique avec Oversampling semble avoir des performances légèrement inférieures, avec une précision globale d'environ 80%.\n",
    "\n",
    "Cependant, il est important de noter que les performances des modèles de régression logistique sont inférieures à celles des modèles SVM et Random Forest mentionnés précédemment."
   ]
  },
  {
   "cell_type": "markdown",
   "id": "b43686a6",
   "metadata": {},
   "source": [
    "# 4_KNN"
   ]
  },
  {
   "cell_type": "markdown",
   "id": "8c6a02ee",
   "metadata": {},
   "source": [
    "## Sélection de modèles"
   ]
  },
  {
   "cell_type": "code",
   "execution_count": 154,
   "id": "3e3ca575",
   "metadata": {},
   "outputs": [
    {
     "name": "stderr",
     "output_type": "stream",
     "text": [
      "C:\\Users\\h.drioueche\\AppData\\Local\\anaconda3\\envs\\ml\\lib\\site-packages\\sklearn\\model_selection\\_search.py:307: UserWarning: The total space of parameters 30 is smaller than n_iter=100. Running 30 iterations. For exhaustive searches, use GridSearchCV.\n",
      "  warnings.warn(\n"
     ]
    },
    {
     "name": "stdout",
     "output_type": "stream",
     "text": [
      "Meilleurs hyperparamètres :\n",
      "{'weights': 'uniform', 'n_neighbors': 1, 'metric': 'manhattan'}\n"
     ]
    }
   ],
   "source": [
    "# Hyperparamètres à tester\n",
    "param_grid = {\n",
    "    \"n_neighbors\": np.arange(1, 10, 2),\n",
    "    \"metric\": [\"minkowski\", \"euclidean\", \"manhattan\"],\n",
    "    \"weights\": [\"uniform\", \"distance\"],\n",
    "}\n",
    "\n",
    "# Création du modèle KNN\n",
    "knn = KNeighborsClassifier()\n",
    "\n",
    "# Création de l'objet de recherche aléatoire\n",
    "grid_search = RandomizedSearchCV(knn, param_grid, n_iter=100, cv=5, scoring='accuracy')\n",
    "\n",
    "# Entraînement du modèle sur X_train et y_train (vos données d'entraînement)\n",
    "grid_search.fit(X_train, y_train)\n",
    "\n",
    "# Afficher les meilleurs hyperparamètres\n",
    "print(\"Meilleurs hyperparamètres :\")\n",
    "print(grid_search.best_params_)"
   ]
  },
  {
   "cell_type": "code",
   "execution_count": 155,
   "id": "890a0ade",
   "metadata": {},
   "outputs": [
    {
     "data": {
      "text/plain": [
       "<matplotlib.legend.Legend at 0x2a29b624eb0>"
      ]
     },
     "execution_count": 155,
     "metadata": {},
     "output_type": "execute_result"
    },
    {
     "data": {
      "image/png": "[encoded data removed]",
      "text/plain": [
       "<Figure size 640x480 with 1 Axes>"
      ]
     },
     "metadata": {},
     "output_type": "display_data"
    }
   ],
   "source": [
    "# Meilleurs hyperparamètres (Kaggle) \n",
    "score_minko = []\n",
    "score_man = []\n",
    "score_cheb = []\n",
    "\n",
    "for k in range(1, 21):\n",
    "    knn = neighbors.KNeighborsClassifier(n_neighbors=k)\n",
    "    knn.fit(X_train, y_train)\n",
    "    score_minko.append(knn.score(X_test, y_test))\n",
    "\n",
    "for k in range(1, 21):\n",
    "    knn = neighbors.KNeighborsClassifier(n_neighbors=k, metric='manhattan')\n",
    "    knn.fit(X_train, y_train)\n",
    "    score_man.append(knn.score(X_test, y_test))\n",
    "\n",
    "for k in range(1, 21):\n",
    "    knn = neighbors.KNeighborsClassifier(n_neighbors=k, metric='chebyshev')\n",
    "    knn.fit(X_train, y_train)\n",
    "    score_cheb.append(knn.score(X_test, y_test))\n",
    "\n",
    "plt.plot(range(1, 21), score_minko, color='blue', linestyle='dashed', lw=2, label='Minkowski')\n",
    "plt.plot(range(1, 21), score_man, color='orange', linestyle='dashed', lw=2, label='Manhattan')\n",
    "plt.plot(range(1, 21), score_cheb, color='red', linestyle='dashed', lw=2, label='Chebyshev')\n",
    "plt.title('Score - valeur de K')\n",
    "plt.xlabel('Valeur de K')\n",
    "plt.ylabel('Accuracy')\n",
    "plt.legend()"
   ]
  },
  {
   "cell_type": "markdown",
   "id": "7745def6",
   "metadata": {},
   "source": [
    "## Modèle KNN"
   ]
  },
  {
   "cell_type": "code",
   "execution_count": 28,
   "id": "e40e31a5",
   "metadata": {},
   "outputs": [
    {
     "name": "stdout",
     "output_type": "stream",
     "text": [
      "Notre KNN:\n",
      "              precision    recall  f1-score   support\n",
      "\n",
      "         0.0       0.93      0.97      0.95       815\n",
      "         1.0       0.99      0.97      0.98      2096\n",
      "\n",
      "    accuracy                           0.97      2911\n",
      "   macro avg       0.96      0.97      0.96      2911\n",
      "weighted avg       0.97      0.97      0.97      2911\n",
      "\n"
     ]
    },
    {
     "data": {
      "text/plain": [
       "['model_knn_ptbdb.joblib']"
      ]
     },
     "execution_count": 28,
     "metadata": {},
     "output_type": "execute_result"
    }
   ],
   "source": [
    "# Créer un modèle (Notre KNN)\n",
    "rf = neighbors.KNeighborsClassifier(n_neighbors=1, metric='manhattan',weights= 'uniform')\n",
    "# Entraîner et prédire sur les données ##################################################################\n",
    "rf.fit(X_train, y_train)\n",
    "y_pred_rf_notre = rf.predict(X_test)\n",
    "print('Notre KNN:')\n",
    "print(classification_report(y_test, y_pred_rf_notre))\n",
    "\n",
    "# Sauvegardez le modèle\n",
    "joblib.dump(rf, 'model_knn_ptbdb.joblib')"
   ]
  },
  {
   "cell_type": "markdown",
   "id": "a53ad1a1",
   "metadata": {},
   "source": [
    "Classe 0 (Battements cardiaques normaux) :\n",
    "\n",
    "Précision : 92%\n",
    "Rappel : 97%\n",
    "F1-score : 94%\n",
    "\n",
    "Classe 1 (Battements cardiaques anormaux) :\n",
    "\n",
    "Précision : 99%\n",
    "Rappel : 97%\n",
    "F1-score : 97%\n",
    "\n",
    "L'ensemble du modèle KNN atteint une précision globale de 97%. Ces résultats montrent que le modèle KNN est très performant pour la classification des arythmies cardiaques, avec des mesures de performance élevées pour les deux classes.\n",
    "\n",
    "Le modèle KNN a une précision élevée pour la classe 1 (battements cardiaques anormaux) avec une précision de 99%, ce qui signifie qu'il identifie très efficacement les battements cardiaques anormaux. De plus, il a également une bonne performance pour la classe 0 (battements cardiaques normaux) avec une précision de 92%.\n",
    "\n",
    "Globalement, le modèle KNN est une excellente option pour la classification des arythmies cardiaques, avec des performances élevées pour les deux classes."
   ]
  },
  {
   "cell_type": "code",
   "execution_count": 39,
   "id": "8d2d0edf",
   "metadata": {},
   "outputs": [
    {
     "data": {
      "text/html": [
       "<div>\n",
       "<style scoped>\n",
       "    .dataframe tbody tr th:only-of-type {\n",
       "        vertical-align: middle;\n",
       "    }\n",
       "\n",
       "    .dataframe tbody tr th {\n",
       "        vertical-align: top;\n",
       "    }\n",
       "\n",
       "    .dataframe thead th {\n",
       "        text-align: right;\n",
       "    }\n",
       "</style>\n",
       "<table border=\"1\" class=\"dataframe\">\n",
       "  <thead>\n",
       "    <tr style=\"text-align: right;\">\n",
       "      <th>Classe prédite</th>\n",
       "      <th>0.0</th>\n",
       "      <th>1.0</th>\n",
       "    </tr>\n",
       "    <tr>\n",
       "      <th>Classe réelle</th>\n",
       "      <th></th>\n",
       "      <th></th>\n",
       "    </tr>\n",
       "  </thead>\n",
       "  <tbody>\n",
       "    <tr>\n",
       "      <th>0.0</th>\n",
       "      <td>783</td>\n",
       "      <td>28</td>\n",
       "    </tr>\n",
       "    <tr>\n",
       "      <th>1.0</th>\n",
       "      <td>66</td>\n",
       "      <td>2034</td>\n",
       "    </tr>\n",
       "  </tbody>\n",
       "</table>\n",
       "</div>"
      ],
      "text/plain": [
       "Classe prédite  0.0   1.0\n",
       "Classe réelle            \n",
       "0.0             783    28\n",
       "1.0              66  2034"
      ]
     },
     "execution_count": 39,
     "metadata": {},
     "output_type": "execute_result"
    }
   ],
   "source": [
    "# matrice de confusion pour comparer les classes réelles et prédite KNN.\n",
    "pd.crosstab(y_test, y_pred_rf_notre, rownames=['Classe réelle'], colnames=['Classe prédite'])"
   ]
  },
  {
   "cell_type": "code",
   "execution_count": 40,
   "id": "e64663a9",
   "metadata": {},
   "outputs": [
    {
     "data": {
      "image/png": "[encoded data removed]",
      "text/plain": [
       "<Figure size 640x480 with 2 Axes>"
      ]
     },
     "metadata": {},
     "output_type": "display_data"
    }
   ],
   "source": [
    "# Matrice de confusion\n",
    "cm = pd.crosstab(y_test, y_pred_rf_notre, rownames=['Classe réelle'], colnames=['Classe prédite'])\n",
    "\n",
    "# Plot de la matrice de confusion\n",
    "sns.heatmap(cm, annot=True, fmt='d', cmap='Blues')\n",
    "plt.title('Matrice de confusion')\n",
    "plt.show()"
   ]
  },
  {
   "cell_type": "markdown",
   "id": "b7ec084b",
   "metadata": {},
   "source": [
    "# Modèle KNN: L'Oversampling"
   ]
  },
  {
   "cell_type": "code",
   "execution_count": 27,
   "id": "a6146f94",
   "metadata": {},
   "outputs": [
    {
     "name": "stdout",
     "output_type": "stream",
     "text": [
      "Notre KNN Oversampling:\n",
      "              precision    recall  f1-score   support\n",
      "\n",
      "         0.0       0.93      0.97      0.95       815\n",
      "         1.0       0.99      0.97      0.98      2096\n",
      "\n",
      "    accuracy                           0.97      2911\n",
      "   macro avg       0.96      0.97      0.96      2911\n",
      "weighted avg       0.97      0.97      0.97      2911\n",
      "\n"
     ]
    },
    {
     "data": {
      "text/plain": [
       "['model_knn_ptbdb_over.joblib']"
      ]
     },
     "execution_count": 27,
     "metadata": {},
     "output_type": "execute_result"
    }
   ],
   "source": [
    "# KNN t################################################################################################\n",
    "rf = neighbors.KNeighborsClassifier(n_neighbors=1, metric='manhattan',weights= 'uniform')\n",
    "\n",
    "# Entraîner et prédire sur les données  ##################################################################\n",
    "rf.fit(X_ro, y_ro)\n",
    "y_pred_rf_notre = rf.predict(X_test)\n",
    "print('Notre KNN Oversampling:')\n",
    "print(classification_report(y_test, y_pred_rf_notre))\n",
    "\n",
    "# Sauvegardez le modèle\n",
    "joblib.dump(rf, 'model_knn_ptbdb_over.joblib')"
   ]
  },
  {
   "cell_type": "code",
   "execution_count": 42,
   "id": "93acfb46",
   "metadata": {},
   "outputs": [
    {
     "data": {
      "text/html": [
       "<div>\n",
       "<style scoped>\n",
       "    .dataframe tbody tr th:only-of-type {\n",
       "        vertical-align: middle;\n",
       "    }\n",
       "\n",
       "    .dataframe tbody tr th {\n",
       "        vertical-align: top;\n",
       "    }\n",
       "\n",
       "    .dataframe thead th {\n",
       "        text-align: right;\n",
       "    }\n",
       "</style>\n",
       "<table border=\"1\" class=\"dataframe\">\n",
       "  <thead>\n",
       "    <tr style=\"text-align: right;\">\n",
       "      <th>Classe prédite</th>\n",
       "      <th>0.0</th>\n",
       "      <th>1.0</th>\n",
       "    </tr>\n",
       "    <tr>\n",
       "      <th>Classe réelle</th>\n",
       "      <th></th>\n",
       "      <th></th>\n",
       "    </tr>\n",
       "  </thead>\n",
       "  <tbody>\n",
       "    <tr>\n",
       "      <th>0.0</th>\n",
       "      <td>783</td>\n",
       "      <td>28</td>\n",
       "    </tr>\n",
       "    <tr>\n",
       "      <th>1.0</th>\n",
       "      <td>66</td>\n",
       "      <td>2034</td>\n",
       "    </tr>\n",
       "  </tbody>\n",
       "</table>\n",
       "</div>"
      ],
      "text/plain": [
       "Classe prédite  0.0   1.0\n",
       "Classe réelle            \n",
       "0.0             783    28\n",
       "1.0              66  2034"
      ]
     },
     "execution_count": 42,
     "metadata": {},
     "output_type": "execute_result"
    }
   ],
   "source": [
    "# matrice de confusion pour comparer les classes réelles et prédite Random Forest.\n",
    "pd.crosstab(y_test, y_pred_rf_notre, rownames=['Classe réelle'], colnames=['Classe prédite'])"
   ]
  },
  {
   "cell_type": "code",
   "execution_count": 43,
   "id": "bfa5e986",
   "metadata": {},
   "outputs": [
    {
     "data": {
      "image/png": "[encoded data removed]",
      "text/plain": [
       "<Figure size 640x480 with 2 Axes>"
      ]
     },
     "metadata": {},
     "output_type": "display_data"
    }
   ],
   "source": [
    "# Matrice de confusion\n",
    "cm = pd.crosstab(y_test, y_pred_rf_notre, rownames=['Classe réelle'], colnames=['Classe prédite'])\n",
    "\n",
    "# Plot de la matrice de confusion\n",
    "sns.heatmap(cm, annot=True, fmt='d', cmap='Blues')\n",
    "plt.title('Matrice de confusion')\n",
    "plt.show()"
   ]
  },
  {
   "cell_type": "markdown",
   "id": "2950a8ab",
   "metadata": {},
   "source": [
    "# Modèle KNN :  L'Undersampling"
   ]
  },
  {
   "cell_type": "code",
   "execution_count": 26,
   "id": "0105cc5d",
   "metadata": {},
   "outputs": [
    {
     "name": "stdout",
     "output_type": "stream",
     "text": [
      "Notre KNN undersamplingt :\n",
      "              precision    recall  f1-score   support\n",
      "\n",
      "         0.0       0.93      0.97      0.95       815\n",
      "         1.0       0.99      0.97      0.98      2096\n",
      "\n",
      "    accuracy                           0.97      2911\n",
      "   macro avg       0.96      0.97      0.96      2911\n",
      "weighted avg       0.97      0.97      0.97      2911\n",
      "\n"
     ]
    },
    {
     "data": {
      "text/plain": [
       "['model_knn_ptbdb_under.joblib']"
      ]
     },
     "execution_count": 26,
     "metadata": {},
     "output_type": "execute_result"
    }
   ],
   "source": [
    "# KNN ######################################################################################################\n",
    "rf = neighbors.KNeighborsClassifier(n_neighbors=1, metric='manhattan',weights= 'uniform')\n",
    "# Entraîner et prédire sur les données \n",
    "rf.fit(X_rus, y_rus)\n",
    "y_pred_rf_notre = rf.predict(X_test)\n",
    "print(\"Notre KNN undersamplingt :\")\n",
    "print(classification_report(y_test, y_pred_rf_notre))\n",
    "\n",
    "# Sauvegardez le modèle\n",
    "joblib.dump(rf, 'model_knn_ptbdb_under.joblib')"
   ]
  },
  {
   "cell_type": "code",
   "execution_count": 45,
   "id": "aac498da",
   "metadata": {},
   "outputs": [
    {
     "data": {
      "text/html": [
       "<div>\n",
       "<style scoped>\n",
       "    .dataframe tbody tr th:only-of-type {\n",
       "        vertical-align: middle;\n",
       "    }\n",
       "\n",
       "    .dataframe tbody tr th {\n",
       "        vertical-align: top;\n",
       "    }\n",
       "\n",
       "    .dataframe thead th {\n",
       "        text-align: right;\n",
       "    }\n",
       "</style>\n",
       "<table border=\"1\" class=\"dataframe\">\n",
       "  <thead>\n",
       "    <tr style=\"text-align: right;\">\n",
       "      <th>Classe prédite</th>\n",
       "      <th>0.0</th>\n",
       "      <th>1.0</th>\n",
       "    </tr>\n",
       "    <tr>\n",
       "      <th>Classe réelle</th>\n",
       "      <th></th>\n",
       "      <th></th>\n",
       "    </tr>\n",
       "  </thead>\n",
       "  <tbody>\n",
       "    <tr>\n",
       "      <th>0.0</th>\n",
       "      <td>783</td>\n",
       "      <td>28</td>\n",
       "    </tr>\n",
       "    <tr>\n",
       "      <th>1.0</th>\n",
       "      <td>66</td>\n",
       "      <td>2034</td>\n",
       "    </tr>\n",
       "  </tbody>\n",
       "</table>\n",
       "</div>"
      ],
      "text/plain": [
       "Classe prédite  0.0   1.0\n",
       "Classe réelle            \n",
       "0.0             783    28\n",
       "1.0              66  2034"
      ]
     },
     "execution_count": 45,
     "metadata": {},
     "output_type": "execute_result"
    }
   ],
   "source": [
    "# matrice de confusion pour comparer les classes réelles et prédite Random Forest.\n",
    "pd.crosstab(y_test, y_pred_rf_notre, rownames=['Classe réelle'], colnames=['Classe prédite'])"
   ]
  },
  {
   "cell_type": "code",
   "execution_count": 46,
   "id": "b6217c09",
   "metadata": {},
   "outputs": [
    {
     "data": {
      "image/png": "[encoded data removed]",
      "text/plain": [
       "<Figure size 640x480 with 2 Axes>"
      ]
     },
     "metadata": {},
     "output_type": "display_data"
    }
   ],
   "source": [
    "# Matrice de confusion\n",
    "cm = pd.crosstab(y_test, y_pred_rf_notre, rownames=['Classe réelle'], colnames=['Classe prédite'])\n",
    "\n",
    "# Plot de la matrice de confusion\n",
    "sns.heatmap(cm, annot=True, fmt='d', cmap='Blues')\n",
    "plt.title('Matrice de confusion')\n",
    "plt.show()"
   ]
  },
  {
   "cell_type": "markdown",
   "id": "3b61b6d3",
   "metadata": {},
   "source": [
    "# Choix du modèle"
   ]
  },
  {
   "cell_type": "markdown",
   "id": "0f613eef",
   "metadata": {},
   "source": [
    "Sur la base des résultats fournis, les trois modèles KNN - Modèle 1 KNN, Modèle 2 KNN avec Oversampling et Modèle 3 KNN avec Undersampling - ont des performances très similaires, avec une précision globale d'environ 97% pour la prédiction des battements cardiaques.\n",
    "\n",
    "Les trois modèles KNN ont des scores de précision, de rappel (recall) et de score F1 similaires pour les classes 0 et 1. Les différences entre les modèles sont minimes.\n",
    "\n",
    "Étant donné que les performances des trois modèles KNN sont identiques, il n'y a pas de modèle clairement supérieur sur la base des résultats fournis. Dans ce cas, il peut être préférable de choisir le modèle le plus simple et le plus facile à interpréter, ce qui pourrait être le Modèle 1 KNN."
   ]
  },
  {
   "cell_type": "markdown",
   "id": "bab22fef",
   "metadata": {},
   "source": [
    "# 5_Arbres de décisions"
   ]
  },
  {
   "cell_type": "markdown",
   "id": "936692c8",
   "metadata": {},
   "source": [
    "## Sélection de modèles"
   ]
  },
  {
   "cell_type": "code",
   "execution_count": 151,
   "id": "ecfe6c53",
   "metadata": {},
   "outputs": [
    {
     "name": "stdout",
     "output_type": "stream",
     "text": [
      "Meilleurs hyperparamètres :\n",
      "{'min_samples_split': 2, 'min_samples_leaf': 1, 'max_features': 'sqrt', 'max_depth': None, 'criterion': 'gini'}\n"
     ]
    },
    {
     "name": "stderr",
     "output_type": "stream",
     "text": [
      "C:\\Users\\h.drioueche\\AppData\\Local\\anaconda3\\envs\\ml\\lib\\site-packages\\sklearn\\model_selection\\_validation.py:425: FitFailedWarning: \n",
      "185 fits failed out of a total of 500.\n",
      "The score on these train-test partitions for these parameters will be set to nan.\n",
      "If these failures are not expected, you can try to debug them by setting error_score='raise'.\n",
      "\n",
      "Below are more details about the failures:\n",
      "--------------------------------------------------------------------------------\n",
      "185 fits failed with the following error:\n",
      "Traceback (most recent call last):\n",
      "  File \"C:\\Users\\h.drioueche\\AppData\\Local\\anaconda3\\envs\\ml\\lib\\site-packages\\sklearn\\model_selection\\_validation.py\", line 732, in _fit_and_score\n",
      "    estimator.fit(X_train, y_train, **fit_params)\n",
      "  File \"C:\\Users\\h.drioueche\\AppData\\Local\\anaconda3\\envs\\ml\\lib\\site-packages\\sklearn\\base.py\", line 1144, in wrapper\n",
      "    estimator._validate_params()\n",
      "  File \"C:\\Users\\h.drioueche\\AppData\\Local\\anaconda3\\envs\\ml\\lib\\site-packages\\sklearn\\base.py\", line 637, in _validate_params\n",
      "    validate_parameter_constraints(\n",
      "  File \"C:\\Users\\h.drioueche\\AppData\\Local\\anaconda3\\envs\\ml\\lib\\site-packages\\sklearn\\utils\\_param_validation.py\", line 95, in validate_parameter_constraints\n",
      "    raise InvalidParameterError(\n",
      "sklearn.utils._param_validation.InvalidParameterError: The 'max_features' parameter of DecisionTreeClassifier must be an int in the range [1, inf), a float in the range (0.0, 1.0], a str among {'log2', 'sqrt'} or None. Got 'auto' instead.\n",
      "\n",
      "  warnings.warn(some_fits_failed_message, FitFailedWarning)\n",
      "C:\\Users\\h.drioueche\\AppData\\Local\\anaconda3\\envs\\ml\\lib\\site-packages\\sklearn\\model_selection\\_search.py:976: UserWarning: One or more of the test scores are non-finite: [0.89253507        nan        nan        nan 0.88325889        nan\n",
      " 0.89064596        nan 0.89176195 0.90327294 0.86221189        nan\n",
      " 0.86152328 0.89897719        nan 0.89966521        nan        nan\n",
      " 0.90121179 0.90688141 0.86616323 0.85422061 0.9053345         nan\n",
      " 0.86641886        nan 0.90464799        nan 0.90473331        nan\n",
      "        nan        nan 0.88918518 0.89940648 0.89433949 0.89760324\n",
      " 0.86573482 0.90576468 0.90439026        nan 0.90773978        nan\n",
      "        nan 0.89966521 0.89545622 0.90688141        nan 0.88935719\n",
      " 0.90189889        nan 0.90576468        nan        nan 0.85722948\n",
      " 0.90086704 0.89253507        nan 0.90061067 0.90327294        nan\n",
      "        nan 0.90902785 0.89253507        nan 0.89683042        nan\n",
      " 0.90292926 0.89872108 0.88205533        nan 0.86135253 0.88952871\n",
      " 0.86281212 0.89347972 0.85920365 0.88780987 0.85293432 0.90129652\n",
      " 0.84984109 0.89382417 0.90851334        nan        nan        nan\n",
      "        nan 0.8621248  0.89966488        nan 0.9007822         nan\n",
      " 0.9025854  0.86135249        nan 0.85903419 0.89176195        nan\n",
      " 0.90851334 0.88866938        nan 0.89683042]\n",
      "  warnings.warn(\n"
     ]
    }
   ],
   "source": [
    "# Hyperparamètres à tester\n",
    "param_grid = {\n",
    "    \"criterion\": [\"entropy\", \"gini\"],\n",
    "    \"max_depth\": [None, 10, 20, 30],\n",
    "    \"min_samples_split\": [2, 5, 10],\n",
    "    \"min_samples_leaf\": [1, 2, 4],\n",
    "    \"max_features\": [\"auto\", \"sqrt\", \"log2\"],\n",
    "}\n",
    "\n",
    "# Création du modèle\n",
    "dtc = DecisionTreeClassifier(random_state=42)\n",
    "\n",
    "# Utiliser la recherche aléatoire pour trouver les meilleurs hyperparamètres\n",
    "grid_search = RandomizedSearchCV(dtc, param_grid, n_iter=100, cv=5, scoring='accuracy')\n",
    "\n",
    "# Entraînement du modèle sur X_train et y_train\n",
    "grid_search.fit(X_train, y_train)\n",
    "\n",
    "# Afficher les meilleurs hyperparamètres\n",
    "print(\"Meilleurs hyperparamètres :\")\n",
    "print(grid_search.best_params_)"
   ]
  },
  {
   "cell_type": "markdown",
   "id": "edb56603",
   "metadata": {},
   "source": [
    "## Modèle arbres de décisions"
   ]
  },
  {
   "cell_type": "code",
   "execution_count": 23,
   "id": "b05fbff2",
   "metadata": {
    "scrolled": true
   },
   "outputs": [
    {
     "name": "stdout",
     "output_type": "stream",
     "text": [
      "Notre arbres de décision:\n",
      "              precision    recall  f1-score   support\n",
      "\n",
      "         0.0       0.85      0.86      0.86       815\n",
      "         1.0       0.95      0.94      0.94      2096\n",
      "\n",
      "    accuracy                           0.92      2911\n",
      "   macro avg       0.90      0.90      0.90      2911\n",
      "weighted avg       0.92      0.92      0.92      2911\n",
      "\n"
     ]
    },
    {
     "data": {
      "text/plain": [
       "['model_decisiontree_ptbdb.joblib']"
      ]
     },
     "execution_count": 23,
     "metadata": {},
     "output_type": "execute_result"
    }
   ],
   "source": [
    "# Créer un modèle (exemple avec DecisionTreeClassifier)\n",
    "rf = DecisionTreeClassifier(min_samples_split=2,min_samples_leaf= 1, max_features= 'sqrt', criterion ='gini',\n",
    "                            max_depth=None, random_state=123)\n",
    "# Entraîner et prédire sur les données##################################################################\n",
    "rf.fit(X_train, y_train)\n",
    "y_pred_rf_notre = rf.predict(X_test)\n",
    "print('Notre arbres de décision:')\n",
    "print(classification_report(y_test, y_pred_rf_notre))\n",
    "\n",
    "# Sauvegardez le modèle\n",
    "joblib.dump(rf, 'model_decisiontree_ptbdb.joblib')"
   ]
  },
  {
   "cell_type": "markdown",
   "id": "51be5f31",
   "metadata": {},
   "source": [
    "Classe 0 (Battements cardiaques normaux) :\n",
    "\n",
    "Précision : 82%\n",
    "Rappel : 85%\n",
    "F1-score : 84%\n",
    "Classe 1 (Battements cardiaques anormaux) :\n",
    "\n",
    "Précision : 94%\n",
    "Rappel : 93%\n",
    "F1-score : 94%\n",
    "\n",
    "L'ensemble du modèle d'arbre de décision atteint une précision globale de 91%. Ces résultats indiquent que le modèle d'arbre de décision est performant pour la classification des arythmies cardiaques, avec des mesures de performance acceptables pour les deux classes.\n",
    "\n",
    "Le modèle d'arbre de décision a une précision légèrement plus faible pour la classe 0 (battements cardiaques normaux) par rapport à la classe 1 (battements cardiaques anormaux). Cependant, il atteint un rappel légèrement plus élevé pour la classe 0 par rapport à la classe 1.\n",
    "\n",
    "Globalement, le modèle d'arbre de décision est une bonne option pour la classification des arythmies cardiaques, avec des performances équilibrées pour les deux classes."
   ]
  },
  {
   "cell_type": "code",
   "execution_count": 48,
   "id": "ff0d256f",
   "metadata": {},
   "outputs": [
    {
     "data": {
      "text/html": [
       "<div>\n",
       "<style scoped>\n",
       "    .dataframe tbody tr th:only-of-type {\n",
       "        vertical-align: middle;\n",
       "    }\n",
       "\n",
       "    .dataframe tbody tr th {\n",
       "        vertical-align: top;\n",
       "    }\n",
       "\n",
       "    .dataframe thead th {\n",
       "        text-align: right;\n",
       "    }\n",
       "</style>\n",
       "<table border=\"1\" class=\"dataframe\">\n",
       "  <thead>\n",
       "    <tr style=\"text-align: right;\">\n",
       "      <th>Classe prédite</th>\n",
       "      <th>0.0</th>\n",
       "      <th>1.0</th>\n",
       "    </tr>\n",
       "    <tr>\n",
       "      <th>Classe réelle</th>\n",
       "      <th></th>\n",
       "      <th></th>\n",
       "    </tr>\n",
       "  </thead>\n",
       "  <tbody>\n",
       "    <tr>\n",
       "      <th>0.0</th>\n",
       "      <td>689</td>\n",
       "      <td>122</td>\n",
       "    </tr>\n",
       "    <tr>\n",
       "      <th>1.0</th>\n",
       "      <td>148</td>\n",
       "      <td>1952</td>\n",
       "    </tr>\n",
       "  </tbody>\n",
       "</table>\n",
       "</div>"
      ],
      "text/plain": [
       "Classe prédite  0.0   1.0\n",
       "Classe réelle            \n",
       "0.0             689   122\n",
       "1.0             148  1952"
      ]
     },
     "execution_count": 48,
     "metadata": {},
     "output_type": "execute_result"
    }
   ],
   "source": [
    "# matrice de confusion pour comparer les classes réelles et prédite arbres de décisions.\n",
    "pd.crosstab(y_test, y_pred_rf_notre, rownames=['Classe réelle'], colnames=['Classe prédite'])"
   ]
  },
  {
   "cell_type": "code",
   "execution_count": 49,
   "id": "b51b6799",
   "metadata": {},
   "outputs": [
    {
     "data": {
      "image/png": "[encoded data removed]",
      "text/plain": [
       "<Figure size 640x480 with 2 Axes>"
      ]
     },
     "metadata": {},
     "output_type": "display_data"
    }
   ],
   "source": [
    "# Matrice de confusion\n",
    "cm = pd.crosstab(y_test, y_pred_rf_notre, rownames=['Classe réelle'], colnames=['Classe prédite'])\n",
    "\n",
    "# Plot de la matrice de confusion\n",
    "sns.heatmap(cm, annot=True, fmt='d', cmap='Blues')\n",
    "plt.title('Matrice de confusion')\n",
    "plt.show()"
   ]
  },
  {
   "cell_type": "markdown",
   "id": "8de7fa13",
   "metadata": {},
   "source": [
    "# Modèle arbres de décision:  L'Oversampling"
   ]
  },
  {
   "cell_type": "code",
   "execution_count": 24,
   "id": "e6e843d2",
   "metadata": {},
   "outputs": [
    {
     "name": "stdout",
     "output_type": "stream",
     "text": [
      "Notre arbres de décision Oversampling:\n",
      "              precision    recall  f1-score   support\n",
      "\n",
      "         0.0       0.87      0.86      0.87       815\n",
      "         1.0       0.95      0.95      0.95      2096\n",
      "\n",
      "    accuracy                           0.92      2911\n",
      "   macro avg       0.91      0.91      0.91      2911\n",
      "weighted avg       0.92      0.92      0.92      2911\n",
      "\n"
     ]
    },
    {
     "data": {
      "text/plain": [
       "['model_decisiontree_ptbdb_over.joblib']"
      ]
     },
     "execution_count": 24,
     "metadata": {},
     "output_type": "execute_result"
    }
   ],
   "source": [
    "# Arbres de décision ################################################################################################\n",
    "rf = DecisionTreeClassifier(min_samples_split=2,min_samples_leaf= 1, \n",
    "                            max_features= 'sqrt', criterion ='gini', max_depth=None, random_state=123)\n",
    "\n",
    "# Entraîner et prédire sur les données ##################################################################\n",
    "rf.fit(X_ro, y_ro)\n",
    "y_pred_rf_notre = rf.predict(X_test)\n",
    "print('Notre arbres de décision Oversampling:')\n",
    "print(classification_report(y_test, y_pred_rf_notre))\n",
    "\n",
    "# Sauvegardez le modèle\n",
    "joblib.dump(rf, 'model_decisiontree_ptbdb_over.joblib')"
   ]
  },
  {
   "cell_type": "code",
   "execution_count": 51,
   "id": "e24bfe4c",
   "metadata": {},
   "outputs": [
    {
     "data": {
      "text/html": [
       "<div>\n",
       "<style scoped>\n",
       "    .dataframe tbody tr th:only-of-type {\n",
       "        vertical-align: middle;\n",
       "    }\n",
       "\n",
       "    .dataframe tbody tr th {\n",
       "        vertical-align: top;\n",
       "    }\n",
       "\n",
       "    .dataframe thead th {\n",
       "        text-align: right;\n",
       "    }\n",
       "</style>\n",
       "<table border=\"1\" class=\"dataframe\">\n",
       "  <thead>\n",
       "    <tr style=\"text-align: right;\">\n",
       "      <th>Classe prédite</th>\n",
       "      <th>0.0</th>\n",
       "      <th>1.0</th>\n",
       "    </tr>\n",
       "    <tr>\n",
       "      <th>Classe réelle</th>\n",
       "      <th></th>\n",
       "      <th></th>\n",
       "    </tr>\n",
       "  </thead>\n",
       "  <tbody>\n",
       "    <tr>\n",
       "      <th>0.0</th>\n",
       "      <td>673</td>\n",
       "      <td>138</td>\n",
       "    </tr>\n",
       "    <tr>\n",
       "      <th>1.0</th>\n",
       "      <td>136</td>\n",
       "      <td>1964</td>\n",
       "    </tr>\n",
       "  </tbody>\n",
       "</table>\n",
       "</div>"
      ],
      "text/plain": [
       "Classe prédite  0.0   1.0\n",
       "Classe réelle            \n",
       "0.0             673   138\n",
       "1.0             136  1964"
      ]
     },
     "execution_count": 51,
     "metadata": {},
     "output_type": "execute_result"
    }
   ],
   "source": [
    "# matrice de confusion pour comparer les classes réelles et prédite Random Forest.\n",
    "pd.crosstab(y_test, y_pred_rf_notre, rownames=['Classe réelle'], colnames=['Classe prédite'])"
   ]
  },
  {
   "cell_type": "code",
   "execution_count": 52,
   "id": "9b8ef9f2",
   "metadata": {},
   "outputs": [
    {
     "data": {
      "image/png": "[encoded data removed]",
      "text/plain": [
       "<Figure size 640x480 with 2 Axes>"
      ]
     },
     "metadata": {},
     "output_type": "display_data"
    }
   ],
   "source": [
    "# Matrice de confusion\n",
    "cm = pd.crosstab(y_test, y_pred_rf_notre, rownames=['Classe réelle'], colnames=['Classe prédite'])\n",
    "\n",
    "# Plot de la matrice de confusion\n",
    "sns.heatmap(cm, annot=True, fmt='d', cmap='Blues')\n",
    "plt.title('Matrice de confusion')\n",
    "plt.show()"
   ]
  },
  {
   "cell_type": "markdown",
   "id": "171936dc",
   "metadata": {},
   "source": [
    "# Modèle arbres de décision:  L'Undersampling"
   ]
  },
  {
   "cell_type": "code",
   "execution_count": 25,
   "id": "43d98076",
   "metadata": {},
   "outputs": [
    {
     "name": "stdout",
     "output_type": "stream",
     "text": [
      "Notre arbres de décision undersamplingt :\n",
      "              precision    recall  f1-score   support\n",
      "\n",
      "         0.0       0.85      0.86      0.86       815\n",
      "         1.0       0.95      0.94      0.94      2096\n",
      "\n",
      "    accuracy                           0.92      2911\n",
      "   macro avg       0.90      0.90      0.90      2911\n",
      "weighted avg       0.92      0.92      0.92      2911\n",
      "\n"
     ]
    },
    {
     "data": {
      "text/plain": [
       "['model_decisiontree_ptbdb_under.joblib']"
      ]
     },
     "execution_count": 25,
     "metadata": {},
     "output_type": "execute_result"
    }
   ],
   "source": [
    "# Arbres de décision ######################################################################################################\n",
    "rf = DecisionTreeClassifier(min_samples_split=2,min_samples_leaf= 1, \n",
    "                            max_features= 'sqrt', criterion ='gini', max_depth=None, random_state=123)\n",
    "\n",
    "# Entraîner et prédire sur les données\n",
    "rf.fit(X_rus, y_rus)\n",
    "y_pred_rf_notre = rf.predict(X_test)\n",
    "print(\"Notre arbres de décision undersamplingt :\")\n",
    "print(classification_report(y_test, y_pred_rf_notre))\n",
    "\n",
    "# Sauvegardez le modèle\n",
    "joblib.dump(rf, 'model_decisiontree_ptbdb_under.joblib')"
   ]
  },
  {
   "cell_type": "code",
   "execution_count": 54,
   "id": "cb8e8c24",
   "metadata": {},
   "outputs": [
    {
     "data": {
      "text/html": [
       "<div>\n",
       "<style scoped>\n",
       "    .dataframe tbody tr th:only-of-type {\n",
       "        vertical-align: middle;\n",
       "    }\n",
       "\n",
       "    .dataframe tbody tr th {\n",
       "        vertical-align: top;\n",
       "    }\n",
       "\n",
       "    .dataframe thead th {\n",
       "        text-align: right;\n",
       "    }\n",
       "</style>\n",
       "<table border=\"1\" class=\"dataframe\">\n",
       "  <thead>\n",
       "    <tr style=\"text-align: right;\">\n",
       "      <th>Classe prédite</th>\n",
       "      <th>0.0</th>\n",
       "      <th>1.0</th>\n",
       "    </tr>\n",
       "    <tr>\n",
       "      <th>Classe réelle</th>\n",
       "      <th></th>\n",
       "      <th></th>\n",
       "    </tr>\n",
       "  </thead>\n",
       "  <tbody>\n",
       "    <tr>\n",
       "      <th>0.0</th>\n",
       "      <td>689</td>\n",
       "      <td>122</td>\n",
       "    </tr>\n",
       "    <tr>\n",
       "      <th>1.0</th>\n",
       "      <td>148</td>\n",
       "      <td>1952</td>\n",
       "    </tr>\n",
       "  </tbody>\n",
       "</table>\n",
       "</div>"
      ],
      "text/plain": [
       "Classe prédite  0.0   1.0\n",
       "Classe réelle            \n",
       "0.0             689   122\n",
       "1.0             148  1952"
      ]
     },
     "execution_count": 54,
     "metadata": {},
     "output_type": "execute_result"
    }
   ],
   "source": [
    "# matrice de confusion pour comparer les classes réelles et prédite Random Forest.\n",
    "pd.crosstab(y_test, y_pred_rf_notre, rownames=['Classe réelle'], colnames=['Classe prédite'])"
   ]
  },
  {
   "cell_type": "code",
   "execution_count": 55,
   "id": "cf29d209",
   "metadata": {},
   "outputs": [
    {
     "data": {
      "image/png": "[encoded data removed]",
      "text/plain": [
       "<Figure size 640x480 with 2 Axes>"
      ]
     },
     "metadata": {},
     "output_type": "display_data"
    }
   ],
   "source": [
    "# Matrice de confusion\n",
    "cm = pd.crosstab(y_test, y_pred_rf_notre, rownames=['Classe réelle'], colnames=['Classe prédite'])\n",
    "\n",
    "# Plot de la matrice de confusion\n",
    "sns.heatmap(cm, annot=True, fmt='d', cmap='Blues')\n",
    "plt.title('Matrice de confusion')\n",
    "plt.show()"
   ]
  },
  {
   "cell_type": "markdown",
   "id": "e068a2ee",
   "metadata": {},
   "source": [
    "# Choix du modèle"
   ]
  },
  {
   "cell_type": "markdown",
   "id": "cd87eeeb",
   "metadata": {},
   "source": [
    "Étant donné que les performances des trois modèles d'arbres de décision sont identiques, il n'y a pas de modèle clairement supérieur sur la base des résultats fournis. Dans ce cas, il peut être préférable de choisir le modèle le plus simple et le plus facile à interpréter, ce qui pourrait être le Modèle 1 Arbres de décisions."
   ]
  },
  {
   "cell_type": "markdown",
   "id": "22dc14b6",
   "metadata": {},
   "source": [
    "# Comparaison les algorithmes utilisés"
   ]
  },
  {
   "cell_type": "markdown",
   "id": "6487230d",
   "metadata": {},
   "source": [
    "Pour déterminer le meilleur modèle parmi les cinq algorithmes (Random Forest, SVM, régression logistique, KNN et arbres de décision), nous pouvons examiner les mesures de performance telles que la précision, le rappel et le score F1. Sur la base des résultats fournis, voici un résumé des performances de chaque modèle :\n",
    "\n",
    "Modèle 1 - Random Forest :\n",
    "Précision : 0,97\n",
    "Rappel : 0,96\n",
    "Score F1 : 0,97\n",
    "\n",
    "Modèle 2 - SVM :\n",
    "Précision : 0,98\n",
    "Rappel : 0,97\n",
    "Score F1 : 0,97\n",
    "\n",
    "Modèle 3 - Régression logistique :\n",
    "Précision : 0,84\n",
    "Rappel : 0,78\n",
    "Score F1 : 0,79\n",
    "\n",
    "Modèle 4 - KNN :\n",
    "Précision : 0,97\n",
    "Rappel : 0,97\n",
    "Score F1 : 0,96\n",
    "\n",
    "Modèle 5 - Arbres de décision :\n",
    "Précision : 0,91\n",
    "Rappel : 0,89\n",
    "Score F1 : 0,89\n",
    "\n",
    "En se basant sur ces mesures de performance, il semble que le modèle SVM (Modèle 2) obtient les meilleurs résultats, avec une précision de 0,98, un rappel de 0,97 et un score F1 de 0,97. Cependant, il est important de prendre en compte d'autres facteurs tels que la complexité du modèle, les exigences en matière de calcul et la facilité d'interprétation."
   ]
  }
 ],
 "metadata": {
  "kernelspec": {
   "display_name": "Python 3 (ipykernel)",
   "language": "python",
   "name": "python3"
  },
  "language_info": {
   "codemirror_mode": {
    "name": "ipython",
    "version": 3
   },
   "file_extension": ".py",
   "mimetype": "text/x-python",
   "name": "python",
   "nbconvert_exporter": "python",
   "pygments_lexer": "ipython3",
   "version": "3.11.5"
  }
 },
 "nbformat": 4,
 "nbformat_minor": 5
}
